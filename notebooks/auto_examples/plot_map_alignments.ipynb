{
  "cells": [
    {
      "cell_type": "markdown",
      "metadata": {},
      "source": [
        "\n# Mapping original MSA, filtered MSA, PDB, and sectors\n\nIn this example, we showcase how to create a pandas.DataFrame to map the\noriginal MSA's positions with the PDB positions, PDB named position, the MSA\nfiltered positions, and the sectors.\n"
      ]
    },
    {
      "cell_type": "code",
      "execution_count": null,
      "metadata": {
        "collapsed": false
      },
      "outputs": [],
      "source": [
        "import numpy as np\nfrom cocoatree.datasets import load_S1A_serine_proteases\nfrom cocoatree.msa import filter_sequences\nfrom cocoatree.msa import map_msa_positions\nimport pandas as pd"
      ]
    },
    {
      "cell_type": "markdown",
      "metadata": {},
      "source": [
        "Start by loading the dataset and the different relevant information: the\nMSA, the PDB positions, and the sectors positions.\n\n"
      ]
    },
    {
      "cell_type": "code",
      "execution_count": null,
      "metadata": {
        "collapsed": false
      },
      "outputs": [],
      "source": [
        "serine_dataset = load_S1A_serine_proteases(paper=\"rivoire\")\nseq_id = serine_dataset[\"sequence_ids\"]\nsequences = serine_dataset[\"alignment\"]\nn_pos, n_seq = len(sequences[0]), len(sequences)\n\n# Make the sectors the same object type as what our extract_sectors_pos\n# returns.\nsectors = [\n    [str(i) for i in serine_dataset[\"sector_positions\"][key]]\n    for key in serine_dataset[\"sector_positions\"].keys()]\npdb_pos = serine_dataset[\"pdb_positions\"]\n\nseq_kept, seq_id_kept, pos_kept = filter_sequences(sequences, seq_id)"
      ]
    },
    {
      "cell_type": "markdown",
      "metadata": {},
      "source": [
        "Now, we are going to map all of these onte the same referential: the\noriginal MSA positions.\n\nUse the function to obtain the mapping between the original MSA and the\nfiltered MSA\n\n"
      ]
    },
    {
      "cell_type": "code",
      "execution_count": null,
      "metadata": {
        "collapsed": false
      },
      "outputs": [],
      "source": [
        "pos_mapping, _ = map_msa_positions(n_pos, pos_kept)"
      ]
    },
    {
      "cell_type": "markdown",
      "metadata": {},
      "source": [
        "Sectors are in the PDB referential. The sequence corresponding to the PDB is\nthe first of the MSA.\n\n"
      ]
    },
    {
      "cell_type": "code",
      "execution_count": null,
      "metadata": {
        "collapsed": false
      },
      "outputs": [],
      "source": [
        "is_mapped = np.array([s != \"-\" for s in sequences[0]])\npdb_mapping = [int(val) if f else None\n               for f, val in zip(\n               is_mapped, (is_mapped.cumsum()-1))]\npdb_pos_mapping = [\n    pdb_pos[j]\n    if i else None\n    for i, j in zip(is_mapped, is_mapped.cumsum()-1)]\nmapping = pd.DataFrame(\n    {\"original_msa_pos\": np.arange(n_pos, dtype=int),\n     \"pdb_pos\": pdb_mapping,\n     \"pdb_named_pos\": pdb_pos_mapping,\n     \"filtered_msa_pos\": pos_mapping.values()})\n\nmapping[\"sector_1\"] = np.isin(mapping[\"pdb_named_pos\"], sectors[0])\nmapping[\"sector_2\"] = np.isin(mapping[\"pdb_named_pos\"], sectors[1])\nmapping[\"sector_3\"] = np.isin(mapping[\"pdb_named_pos\"], sectors[2])"
      ]
    },
    {
      "cell_type": "markdown",
      "metadata": {},
      "source": [
        "Now print the indices of sectors 1 in the different referentials\n\n"
      ]
    },
    {
      "cell_type": "code",
      "execution_count": null,
      "metadata": {
        "collapsed": false
      },
      "outputs": [],
      "source": [
        "print(mapping.loc[mapping[\"sector_1\"]].head())"
      ]
    }
  ],
  "metadata": {
    "kernelspec": {
      "display_name": "Python 3",
      "language": "python",
      "name": "python3"
    },
    "language_info": {
      "codemirror_mode": {
        "name": "ipython",
        "version": 3
      },
      "file_extension": ".py",
      "mimetype": "text/x-python",
      "name": "python",
      "nbconvert_exporter": "python",
      "pygments_lexer": "ipython3",
      "version": "3.11.13"
    }
  },
  "nbformat": 4,
  "nbformat_minor": 0
}