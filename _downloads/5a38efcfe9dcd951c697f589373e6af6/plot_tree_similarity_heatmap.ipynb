{
  "cells": [
    {
      "cell_type": "markdown",
      "metadata": {},
      "source": [
        "\n# Plot a similarity heatmap of a sector along the phylogenetic tree\n\nHere we present how you can plot a heatmap of sequence similarity\nordered following a phylogenetic tree.\n"
      ]
    },
    {
      "cell_type": "markdown",
      "metadata": {},
      "source": [
        "Import necessary packages\n\n"
      ]
    },
    {
      "cell_type": "code",
      "execution_count": null,
      "metadata": {
        "collapsed": false
      },
      "outputs": [],
      "source": [
        "from cocoatree.io import load_MSA, load_tree_ete3\nfrom cocoatree.datasets import load_S1A_serine_proteases\nfrom cocoatree.visualization import update_tree_ete3_and_return_style\nfrom cocoatree.msa import compute_seq_identity, compute_seq_similarity, \\\n    compute_normalized_seq_similarity\nimport pandas as pd\nimport matplotlib.pyplot as plt"
      ]
    },
    {
      "cell_type": "markdown",
      "metadata": {},
      "source": [
        "## Import metadata\n\n"
      ]
    },
    {
      "cell_type": "code",
      "execution_count": null,
      "metadata": {
        "collapsed": false
      },
      "outputs": [],
      "source": [
        "serine_dataset = load_S1A_serine_proteases('halabi')\ndf_annot = serine_dataset[\"metadata\"]\nprint(df_annot)"
      ]
    },
    {
      "cell_type": "markdown",
      "metadata": {},
      "source": [
        "To use your own metadata file, import a csv file as a pandas dataframe.\n\nThe dataframe must have a 'Seq_ID' column, which corresponds to the sequence\nidentifiers used in the fasta and in the phylogenetic tree. The other columns\ncan contain qualitative data that will be displayed as categories alongside\nthe phylogenetic tree. In this example, we will use the last 3 columns\n'Protein_type', 'Subphylum', and 'Class'.\n\nWe will also use a personnalized colormap defined as follows:\n\n"
      ]
    },
    {
      "cell_type": "code",
      "execution_count": null,
      "metadata": {
        "collapsed": false
      },
      "outputs": [],
      "source": [
        "halabi_cmap = {\n    'vertebrate': '#798e87',\n    'invertebrate': '#c27d38',\n    'fungi': '#ccc591',\n    'bacteria': '#29211f',\n    'Chymotrypsin': '#00a08a',\n    'Trypsin': '#ff0000',\n    'Tryptase': '#f2ad00',\n    'Kallikrein': '#f98400',\n    'Granzyme': '#5bbcd6',\n    'Mammalia': '#C969A1',\n    'Actinopterygii': '#CE4441',\n    'Amphibia': '#EE8577',\n    'Malacostraca': '#EB7926',\n    'other': 'lightgrey',\n    'Insecta': '#FFBB44',\n    'Actinobacteria': '#859B6C',\n    'Arachnida': '#62929A',\n    'Oligochaeta': '#004F63'\n}"
      ]
    },
    {
      "cell_type": "markdown",
      "metadata": {},
      "source": [
        "## Import tree file\nThe file must be in Newick format and can include confidence scores such as\nbootstrap or jack-knife (only one type of confidence score at a time).\n\n"
      ]
    },
    {
      "cell_type": "code",
      "execution_count": null,
      "metadata": {
        "collapsed": false
      },
      "outputs": [],
      "source": [
        "tree_file = 'data/halabi_82_seqs.txt'\ntree_ete3 = load_tree_ete3(tree_file)\nprint(tree_ete3)"
      ]
    },
    {
      "cell_type": "markdown",
      "metadata": {},
      "source": [
        "## Import sector sequences\nLoad the sequences you wish to visualize with `cocoatree.io.load_msa()` as\na fasta file. The sequence names must correspond to `Seq_ID` and to the leaf\nnames in the tree file.\n\n"
      ]
    },
    {
      "cell_type": "code",
      "execution_count": null,
      "metadata": {
        "collapsed": false
      },
      "outputs": [],
      "source": [
        "sector_file = 'data/halabi_sector_1_SCA.fasta'\ndata = load_MSA(sector_file, 'fasta')\nsector_id = data[\"sequence_ids\"]\nsector_seq = data[\"alignment\"]"
      ]
    },
    {
      "cell_type": "markdown",
      "metadata": {},
      "source": [
        "## Plot tree with sequence similarity heatmap\nGenerate the tree style that will be applied to your tree.\n\nHere, we will show various elements:\n  - the tree without its leaf names (`show_leaf_name=False`)\n  - metadata as colored columns, in order: *Protein_type*, *Subphylum*,\nand *Class*.\n  - sector sequences colored by amino acid physico-chemical properties\n(`t_sector_seq=True`)\n  - a heatmap of pairwise sequence similarity computed on the sector\nsequences (`t_sector_heatmap=True`, `matrix_type='similarity'`) and\nusing the `GnBu` colormap (`colormap='GnBu'`).\n\n"
      ]
    },
    {
      "cell_type": "code",
      "execution_count": null,
      "metadata": {
        "collapsed": false
      },
      "outputs": [],
      "source": [
        "tree_style, _ = update_tree_ete3_and_return_style(\n    tree_ete3, df_annot, sector_id, sector_seq,\n    meta_data=('Protein_type', 'Subphylum', 'Class'),\n    show_leaf_name=False,\n    fig_title='Heatmap of sequence similarity',\n    linewidth=3,\n    linecolor=\"#000000\",\n    bootstrap_style={},\n    tree_scale=200,\n    metadata_colors=halabi_cmap,\n    t_sector_seq=True,\n    t_sector_heatmap=True,\n    matrix_type='similarity',\n    colormap='GnBu'\n    )"
      ]
    },
    {
      "cell_type": "markdown",
      "metadata": {},
      "source": [
        "Save the image file\n\n"
      ]
    },
    {
      "cell_type": "code",
      "execution_count": null,
      "metadata": {
        "collapsed": false
      },
      "outputs": [],
      "source": [
        "tree_ete3.render(\"sector_phylogeny.png\", tree_style=tree_style)"
      ]
    },
    {
      "cell_type": "markdown",
      "metadata": {},
      "source": [
        "As the similarity score that is computed here is not normalized, it\nis difficult to see variations on the heatmap. We will thus use a\nnormalized sequence similarity score.\n\n"
      ]
    },
    {
      "cell_type": "markdown",
      "metadata": {},
      "source": [
        "## Plot tree with normalized similarity heatmap\nYou first need to reload the tree in order to clean the tree style\ndefined above\n\n"
      ]
    },
    {
      "cell_type": "code",
      "execution_count": null,
      "metadata": {
        "collapsed": false
      },
      "outputs": [],
      "source": [
        "tree_ete3 = load_tree_ete3(tree_file)\ntree_style, _ = update_tree_ete3_and_return_style(\n    tree_ete3, df_annot, sector_id, sector_seq,\n    meta_data=('Protein_type', 'Subphylum', 'Class'),\n    show_leaf_name=False,\n    fig_title='Heatmap of normalized sequence similarity',\n    linewidth=3,\n    linecolor=\"#000000\",\n    bootstrap_style={},\n    tree_scale=200,\n    metadata_colors=halabi_cmap,\n    t_sector_seq=True,\n    t_sector_heatmap=True,\n    matrix_type='norm_similarity',\n    colormap='GnBu'\n    )\ntree_ete3.render(\"sector_phylogeny.png\", tree_style=tree_style)"
      ]
    },
    {
      "cell_type": "markdown",
      "metadata": {},
      "source": [
        "## Compare similarity and identity matrices\nLet's compare the matrices obtained by computing sequence identity versus\nsequence similarity.\n\nStart by filtering and reordering the MSA sequences so that they follow\nthe phylogenetic tree\n\n"
      ]
    },
    {
      "cell_type": "code",
      "execution_count": null,
      "metadata": {
        "collapsed": false
      },
      "outputs": [],
      "source": [
        "leaves_id = tree_ete3.get_leaf_names()\nsequences = pd.DataFrame(index=sector_id, data={\"seq\": sector_seq})\nreordered_sequences = sequences.loc[leaves_id, \"seq\"].values"
      ]
    },
    {
      "cell_type": "markdown",
      "metadata": {},
      "source": [
        "Compute the matrices\n\n"
      ]
    },
    {
      "cell_type": "code",
      "execution_count": null,
      "metadata": {
        "collapsed": false
      },
      "outputs": [],
      "source": [
        "norm_sim_matrix = compute_normalized_seq_similarity(reordered_sequences)\nsim_matrix = compute_seq_similarity(reordered_sequences)\nid_matrix = compute_seq_identity(reordered_sequences)"
      ]
    },
    {
      "cell_type": "markdown",
      "metadata": {},
      "source": [
        "Plot the heatmaps:\n\n"
      ]
    },
    {
      "cell_type": "code",
      "execution_count": null,
      "metadata": {
        "collapsed": false
      },
      "outputs": [],
      "source": [
        "plt.figure(figsize=(20, 8))\nplt.subplot(1, 3, 1)\nplt.imshow(id_matrix, cmap='GnBu')\nplt.xlabel('sequences')\nplt.ylabel(None)\nplt.title('Identity')\nplt.colorbar(shrink=0.4)\n\nplt.subplot(1, 3, 2)\nplt.imshow(sim_matrix, cmap='GnBu')\nplt.xlabel('sequences')\nplt.ylabel(None)\nplt.title('Similarity')\nplt.colorbar(shrink=0.4)\n\nplt.subplot(1, 3, 3)\nplt.imshow(norm_sim_matrix, cmap='GnBu')\nplt.xlabel('sequences')\nplt.ylabel(None)\nplt.title('Normalized similarity')\nplt.colorbar(shrink=0.4)"
      ]
    },
    {
      "cell_type": "markdown",
      "metadata": {},
      "source": [
        "In this case, there is not much difference between sequence identity and\nsequence similarity.\n\n"
      ]
    }
  ],
  "metadata": {
    "kernelspec": {
      "display_name": "Python 3",
      "language": "python",
      "name": "python3"
    },
    "language_info": {
      "codemirror_mode": {
        "name": "ipython",
        "version": 3
      },
      "file_extension": ".py",
      "mimetype": "text/x-python",
      "name": "python",
      "nbconvert_exporter": "python",
      "pygments_lexer": "ipython3",
      "version": "3.11.13"
    }
  },
  "nbformat": 4,
  "nbformat_minor": 0
}