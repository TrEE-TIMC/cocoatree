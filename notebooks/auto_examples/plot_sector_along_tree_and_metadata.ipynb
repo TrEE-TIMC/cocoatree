{
  "cells": [
    {
      "cell_type": "markdown",
      "metadata": {},
      "source": [
        "\n# Plot sector together with (phylogenetic) tree and metadata\n\nA small example that shows how to plot the sector composition\nwithin a tree and to add metadata\n"
      ]
    },
    {
      "cell_type": "code",
      "execution_count": null,
      "metadata": {
        "collapsed": false
      },
      "outputs": [],
      "source": [
        "import pandas as pd\nfrom cocoatree.io import load_MSA, load_tree_ete3\nfrom cocoatree.visualization import update_tree_ete3_and_return_style\n\nannot_file = 'data/random_seq_tree_annotations.csv'\ndf_annot = pd.read_csv(annot_file)\n\ntree_file = 'data/random_seq_tree_kpicsg_ete3.treefile'\ntree_ete3 = load_tree_ete3(tree_file)\n\nsector_file = 'data/SCA_sector_1_core_tagged_seq.fasta'\nsector_id, sector_seq = load_MSA(sector_file, 'fasta')\n\ntree_style = update_tree_ete3_and_return_style(\n    tree_ete3, df_annot, sector_id, sector_seq,\n    meta_data=('class', 'HMM_annotation', 'superkingdom'),\n    fig_title='Visualization example',\n    t_sector_seq=True,\n    t_sector_heatmap=True,\n    colormap='inferno'\n    )\n\n\ntree_ete3.render(\"sector_phylogeny.png\", tree_style=tree_style)"
      ]
    }
  ],
  "metadata": {
    "kernelspec": {
      "display_name": "Python 3",
      "language": "python",
      "name": "python3"
    },
    "language_info": {
      "codemirror_mode": {
        "name": "ipython",
        "version": 3
      },
      "file_extension": ".py",
      "mimetype": "text/x-python",
      "name": "python",
      "nbconvert_exporter": "python",
      "pygments_lexer": "ipython3",
      "version": "3.11.11"
    }
  },
  "nbformat": 4,
  "nbformat_minor": 0
}