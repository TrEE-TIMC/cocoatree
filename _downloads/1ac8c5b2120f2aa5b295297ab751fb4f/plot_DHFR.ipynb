{
  "cells": [
    {
      "cell_type": "markdown",
      "metadata": {},
      "source": [
        "\n# DHFR proteases\n\nLoad the dataset\n"
      ]
    },
    {
      "cell_type": "code",
      "execution_count": null,
      "metadata": {
        "collapsed": false
      },
      "outputs": [],
      "source": [
        "import numpy as np\n\nfrom cocoatree.datasets import load_DHFR\nimport cocoatree.msa as c_msa\nimport cocoatree.statistics.position as c_pos\n\n\ndataset = load_DHFR()\n\nprint(\"Number of sequences\", len(dataset[\"alignment\"]))\nloaded_seqs = dataset[\"alignment\"]\nloaded_seqs_id = dataset[\"sequence_ids\"]\nn_loaded_pos, n_loaded_seqs = len(loaded_seqs[0]), len(loaded_seqs)\n\nprint(f\"The loaded MSA has {n_loaded_seqs} sequences and {n_loaded_pos} \\\n      positions.\")\n\nsequences, sequences_id, positions = c_msa.filter_sequences(\n    loaded_seqs, loaded_seqs_id, gap_threshold=0.4, seq_threshold=0.2)\nn_pos = len(positions)\nprint(f\"After filtering, we have {n_pos} remaining positions.\")\nprint(f\"After filtering, we have {len(sequences)} remaining sequences.\")\n\nseq_weights, m_eff = c_pos.compute_seq_weights(sequences)\nprint('Number of effective sequences %d' %\n      np.round(m_eff))"
      ]
    }
  ],
  "metadata": {
    "kernelspec": {
      "display_name": "Python 3",
      "language": "python",
      "name": "python3"
    },
    "language_info": {
      "codemirror_mode": {
        "name": "ipython",
        "version": 3
      },
      "file_extension": ".py",
      "mimetype": "text/x-python",
      "name": "python",
      "nbconvert_exporter": "python",
      "pygments_lexer": "ipython3",
      "version": "3.11.14"
    }
  },
  "nbformat": 4,
  "nbformat_minor": 0
}