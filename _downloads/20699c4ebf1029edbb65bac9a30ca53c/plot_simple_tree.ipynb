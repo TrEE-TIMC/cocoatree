{
  "cells": [
    {
      "cell_type": "markdown",
      "metadata": {},
      "source": [
        "\n# Simple tree visualization with metadata\n\nA simple tree visualization with cocoatree.\n"
      ]
    },
    {
      "cell_type": "code",
      "execution_count": null,
      "metadata": {
        "collapsed": false
      },
      "outputs": [],
      "source": [
        "import pandas as pd\nfrom cocoatree.io import load_MSA, load_tree_ete3\nfrom cocoatree.visualization import update_tree_ete3_and_return_style\n\n\nannot_file = 'data/random_seq_tree_annotations.csv'\ndf_annot = pd.read_csv(annot_file)\n\ntree_file = 'data/random_seq_tree_kpicsg_ete3.treefile'\ntree_ete3 = load_tree_ete3(tree_file)\n\nsector_file = 'data/SCA_sector_1_core_tagged_seq.fasta'\ndata = load_MSA(sector_file, 'fasta')\n\nsector_id = data[\"sequence_ids\"]\nsector_seq = data[\"alignment\"]\n\ntree_style, column_layout = update_tree_ete3_and_return_style(\n    tree_ete3, df_annot,\n    meta_data=(\"superkingdom\", 'class', 'HMM_annotation'),\n    fig_title='A tree visualization with metadata',\n    )\n\n\ntree_ete3.render(\"simple_tree.png\", tree_style=tree_style)"
      ]
    }
  ],
  "metadata": {
    "kernelspec": {
      "display_name": "Python 3",
      "language": "python",
      "name": "python3"
    },
    "language_info": {
      "codemirror_mode": {
        "name": "ipython",
        "version": 3
      },
      "file_extension": ".py",
      "mimetype": "text/x-python",
      "name": "python",
      "nbconvert_exporter": "python",
      "pygments_lexer": "ipython3",
      "version": "3.11.13"
    }
  },
  "nbformat": 4,
  "nbformat_minor": 0
}