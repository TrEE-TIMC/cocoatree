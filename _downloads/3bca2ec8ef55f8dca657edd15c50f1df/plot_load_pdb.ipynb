{
  "cells": [
    {
      "cell_type": "markdown",
      "metadata": {},
      "source": [
        "\n# Load a PDB structure file\n\nThis small example shows how to use :func:`cocoatree.io.load_pdb` to import\nyour own PDB structure file.\n\nThis function allows you to extract the amino acid sequence associated with the\nPDB file, as well as the residue numbering, which is necessary to specify the\nresidues to highlight in PyMOL for example.\n"
      ]
    },
    {
      "cell_type": "markdown",
      "metadata": {},
      "source": [
        "Import necessary packages\n\n"
      ]
    },
    {
      "cell_type": "code",
      "execution_count": null,
      "metadata": {
        "collapsed": false
      },
      "outputs": [],
      "source": [
        "from cocoatree.io import load_pdb\n\n# Provide path for thumbnail image\n# sphinx_gallery_thumbnail_path = '../../doc/images/3TGI.png'"
      ]
    },
    {
      "cell_type": "markdown",
      "metadata": {},
      "source": [
        "We will use the PDB structure of rat trypsin as an example. The file can be\ndownloaded at: https://www.rcsb.org/structure/3TGI. It is also the structure\nthat is included in :func:`cocoatree.datasets.load_S1A_serine_proteases`.\n\n"
      ]
    },
    {
      "cell_type": "code",
      "execution_count": null,
      "metadata": {
        "collapsed": false
      },
      "outputs": [],
      "source": [
        "pdb_seq, pdb_pos = load_pdb('data/3TGI.pdb', pdb_id='3TGI', chain='E')"
      ]
    },
    {
      "cell_type": "markdown",
      "metadata": {},
      "source": [
        "The ``pdb_id`` argument is the ID that will be used for the structure, in\nthis case, we choose `3TGI`, but it could be `TRYPSIN` or any name that the\nuser finds fitting.\n\nIn order to understand the function's ``chain`` argument, you need to open\nthe PDB in an editor to check the information included within your file:\n\n"
      ]
    },
    {
      "cell_type": "code",
      "execution_count": null,
      "metadata": {
        "collapsed": false
      },
      "outputs": [],
      "source": [
        "\"\"\"HEADER    COMPLEX (SERINE PROTEASE/INHIBITOR)     15-JUL-98   3TGI\nTITLE     WILD-TYPE RAT ANIONIC TRYPSIN COMPLEXED WITH BOVINE\nTITLE    2 PANCREATIC TRYPSIN INHIBITOR (BPTI)\nCOMPND    MOL_ID: 1;\nCOMPND   2 MOLECULE: TRYPSIN;\nCOMPND   3 CHAIN: E;\nCOMPND   4 EC: 3.4.21.4;\nCOMPND   5 MOL_ID: 2;\nCOMPND   6 MOLECULE: BOVINE PANCREATIC TRYPSIN INHIBITOR;\nCOMPND   7 CHAIN: I;\nCOMPND   8 SYNONYM: BPTI\nSOURCE    MOL_ID: 1;\nSOURCE   2 ORGANISM_SCIENTIFIC: RATTUS NORVEGICUS;\nSOURCE   3 ORGANISM_COMMON: NORWAY RAT;\nSOURCE   4 ORGANISM_TAXID: 10116;\nSOURCE   5 ORGAN: PANCREATIC;\nSOURCE   6 MOL_ID: 2;\nSOURCE   7 ORGANISM_SCIENTIFIC: BOS TAURUS;\nSOURCE   8 ORGANISM_COMMON: CATTLE;\nSOURCE   9 ORGANISM_TAXID: 9913\"\"\""
      ]
    },
    {
      "cell_type": "markdown",
      "metadata": {},
      "source": [
        "As you can see, there are actually two molecules in the PDB:\n  - rat trypsin\n  - bovine pancreatic trypsin inhibitor\n\nIt is necessary to specify which molecule you wish to load by using the\n``chain`` argument. In this case, it is ``chain='E'`` for trypsin, and\n``chain='I'`` for the trypsin inhibitor.\n\nFor a comparison, here are the first lines of E. coli dihydrofolate\nreductase's PDB file (which is the one included in cocoatree's\n:func:`cocoatree.datasets.load_DHFR`):\n\n"
      ]
    },
    {
      "cell_type": "code",
      "execution_count": null,
      "metadata": {
        "collapsed": false
      },
      "outputs": [],
      "source": [
        "\"\"\"HEADER    OXIDOREDUCTASE                          02-FEB-11   3QL0\nTITLE     CRYSTAL STRUCTURE OF N23PP/S148A MUTANT OF E. COLI DIHYDROFOLATE\nTITLE    2 REDUCTASE\nCOMPND    MOL_ID: 1;\nCOMPND   2 MOLECULE: DIHYDROFOLATE REDUCTASE;\nCOMPND   3 CHAIN: A;\nCOMPND   4 EC: 1.5.1.3;\nCOMPND   5 ENGINEERED: YES;\nCOMPND   6 MUTATION: YES\nSOURCE    MOL_ID: 1;\nSOURCE   2 ORGANISM_SCIENTIFIC: ESCHERICHIA COLI;\nSOURCE   3 ORGANISM_TAXID: 364106;\nSOURCE   4 STRAIN: UTI89 / UPEC;\nSOURCE   5 GENE: FOLA, UTI89_C0054;\nSOURCE   6 EXPRESSION_SYSTEM: ESCHERICHIA COLI;\nSOURCE   7 EXPRESSION_SYSTEM_TAXID: 562\"\"\""
      ]
    },
    {
      "cell_type": "markdown",
      "metadata": {},
      "source": [
        "In this case, there is only one molecule, which is accessed by specifying\n``chain='A'``.\n\nYou can now access the pdb sequence and the residue numbering:\n\n"
      ]
    },
    {
      "cell_type": "code",
      "execution_count": null,
      "metadata": {
        "collapsed": false
      },
      "outputs": [],
      "source": [
        "print(pdb_seq)\nprint(pdb_pos)\n\n# ..seealso::\n#       :ref:`sphx_glr_auto_examples_a_quick_start_plot_map_alignments.py` to\n#       see how to perform a mapping of the positions between your MSA and the\n#       PDB structure."
      ]
    }
  ],
  "metadata": {
    "kernelspec": {
      "display_name": "Python 3",
      "language": "python",
      "name": "python3"
    },
    "language_info": {
      "codemirror_mode": {
        "name": "ipython",
        "version": 3
      },
      "file_extension": ".py",
      "mimetype": "text/x-python",
      "name": "python",
      "nbconvert_exporter": "python",
      "pygments_lexer": "ipython3",
      "version": "3.11.13"
    }
  },
  "nbformat": 4,
  "nbformat_minor": 0
}