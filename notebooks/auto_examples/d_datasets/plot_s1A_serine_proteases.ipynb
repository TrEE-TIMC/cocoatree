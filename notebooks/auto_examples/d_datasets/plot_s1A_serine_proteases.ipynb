{
  "cells": [
    {
      "cell_type": "markdown",
      "metadata": {},
      "source": [
        "\n# S1A serine proteases\n\nLoad the dataset\n"
      ]
    },
    {
      "cell_type": "code",
      "execution_count": null,
      "metadata": {
        "collapsed": false
      },
      "outputs": [],
      "source": [
        "import numpy as np\nfrom cocoatree.datasets import load_S1A_serine_proteases\n\nimport cocoatree.msa as c_msa\nimport cocoatree.statistics.position as c_pos\n\n\nfor paper in [\"halabi\", \"rivoire\"]:\n    print(paper)\n    dataset = load_S1A_serine_proteases(paper=paper)\n\n    print(\"Number of sequences\", len(dataset[\"alignment\"]))\n    loaded_seqs = dataset[\"alignment\"]\n    loaded_seqs_id = dataset[\"sequence_ids\"]\n    n_loaded_pos, n_loaded_seqs = len(loaded_seqs[0]), len(loaded_seqs)\n\n    print(f\"The loaded MSA has {n_loaded_seqs} sequences and {n_loaded_pos} \\\n        positions.\")\n\n    sequences, sequences_id, positions = c_msa.filter_sequences(\n        loaded_seqs, loaded_seqs_id, gap_threshold=0.4, seq_threshold=0.2)\n    n_pos = len(positions)\n    print(f\"After filtering, we have {n_pos} remaining positions.\")\n    print(f\"After filtering, we have {len(sequences)} remaining sequences.\")\n\n    seq_weights, m_eff = c_pos.compute_seq_weights(sequences)\n    print('Number of effective sequences %d' %\n          np.round(m_eff))\n    print()"
      ]
    }
  ],
  "metadata": {
    "kernelspec": {
      "display_name": "Python 3",
      "language": "python",
      "name": "python3"
    },
    "language_info": {
      "codemirror_mode": {
        "name": "ipython",
        "version": 3
      },
      "file_extension": ".py",
      "mimetype": "text/x-python",
      "name": "python",
      "nbconvert_exporter": "python",
      "pygments_lexer": "ipython3",
      "version": "3.11.14"
    }
  },
  "nbformat": 4,
  "nbformat_minor": 0
}