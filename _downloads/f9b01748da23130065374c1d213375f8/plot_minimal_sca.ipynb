{
  "cells": [
    {
      "cell_type": "markdown",
      "metadata": {},
      "source": [
        "\n# A minimal SCA analysis\n\nThis example provides a minimal code for identifying sectors -- more precisely,\nXCoRs :cite:p:`jullien_cocoatree_2025` -- associated with a MSA.\n"
      ]
    },
    {
      "cell_type": "code",
      "execution_count": null,
      "metadata": {
        "collapsed": false
      },
      "outputs": [],
      "source": [
        "import cocoatree.datasets as c_data\nimport cocoatree\nimport matplotlib.pyplot as plt"
      ]
    },
    {
      "cell_type": "markdown",
      "metadata": {},
      "source": [
        "## Load the dataset\n\nWe start by importing the dataset. In this case, we can directly load the S1\nserine protease dataset provided in :mod:`cocoatree`. To work on your on\ndataset, you can use the :func:`cocoatree.io.load_msa` function.\n\nFor more details on the S1A serine proteases dataset, go to\n`sphx_glr_auto_examples_d_datasets_plot_s1A_serine_proteases.py`.\n\n"
      ]
    },
    {
      "cell_type": "code",
      "execution_count": null,
      "metadata": {
        "collapsed": false
      },
      "outputs": [],
      "source": [
        "serine_dataset = c_data.load_S1A_serine_proteases()\nloaded_seqs = serine_dataset[\"alignment\"]\nloaded_seqs_id = serine_dataset[\"sequence_ids\"]\nn_loaded_pos, n_loaded_seqs = len(loaded_seqs[0]), len(loaded_seqs)"
      ]
    },
    {
      "cell_type": "markdown",
      "metadata": {},
      "source": [
        "## Compute the SCA analysis\n\n\n"
      ]
    },
    {
      "cell_type": "code",
      "execution_count": null,
      "metadata": {
        "collapsed": false
      },
      "outputs": [],
      "source": [
        "coevol_matrix, results = cocoatree.perform_sca(\n    loaded_seqs_id, loaded_seqs, n_components=3)\nprint(results.head())"
      ]
    },
    {
      "cell_type": "markdown",
      "metadata": {},
      "source": [
        "Extracting the list of residues (i.e. positions) composing the XCoRs.\n\n"
      ]
    },
    {
      "cell_type": "code",
      "execution_count": null,
      "metadata": {
        "collapsed": false
      },
      "outputs": [],
      "source": [
        "print('XCoR_1:', [])\nprint('XCoR_2:', [])\nprint('XCoR_3:', [])"
      ]
    },
    {
      "cell_type": "markdown",
      "metadata": {},
      "source": [
        "## Visualizing XCoRs on independent components\n\n"
      ]
    },
    {
      "cell_type": "code",
      "execution_count": null,
      "metadata": {
        "collapsed": false
      },
      "outputs": [],
      "source": [
        "# Plotting independent components\nfig, ax = plt.subplots()\nax.plot(results.loc[:, \"IC1\"],\n        results.loc[:, \"IC2\"],\n        \".\", c=\"black\")\n\n# Plotting XCoRs elements\nfor isec, color in zip([1, 2, 3], ['r', 'g', 'b']):\n    ax.plot(results.loc[results[\"xcor_%d\" % isec], \"IC1\"],\n            results.loc[results[\"xcor_%d\" % isec], \"IC2\"],\n            \".\", c=color, label=\"XCoR_%d\" % isec)\n\nax.set_xlabel(\"IC1\")\nax.set_ylabel(\"IC2\")\n\nax.legend()"
      ]
    }
  ],
  "metadata": {
    "kernelspec": {
      "display_name": "Python 3",
      "language": "python",
      "name": "python3"
    },
    "language_info": {
      "codemirror_mode": {
        "name": "ipython",
        "version": 3
      },
      "file_extension": ".py",
      "mimetype": "text/x-python",
      "name": "python",
      "nbconvert_exporter": "python",
      "pygments_lexer": "ipython3",
      "version": "3.11.13"
    }
  },
  "nbformat": 4,
  "nbformat_minor": 0
}