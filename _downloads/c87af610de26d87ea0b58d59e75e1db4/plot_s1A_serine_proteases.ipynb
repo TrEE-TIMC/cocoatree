{
  "cells": [
    {
      "cell_type": "markdown",
      "metadata": {},
      "source": [
        "\n# S1A serine proteases\n\nThis example shows how the S1A serine proteases dataset is organized and how\nyou can use it to test cocoatree's features.\n\nThis dataset is actually composed of two MSAs:\n    - the MSA from Halabi et al., (2008)\n    - the MSA from Rivoire et al., (2016)\n"
      ]
    },
    {
      "cell_type": "markdown",
      "metadata": {},
      "source": [
        "Imports\n\n"
      ]
    },
    {
      "cell_type": "code",
      "execution_count": null,
      "metadata": {
        "collapsed": false
      },
      "outputs": [],
      "source": [
        "import numpy as np\nfrom cocoatree.datasets import load_S1A_serine_proteases\n\nimport cocoatree.msa as c_msa\nimport cocoatree.statistics.position as c_pos"
      ]
    },
    {
      "cell_type": "markdown",
      "metadata": {},
      "source": [
        "## Halabi dataset\nUse `load_S1A_serine_dataset` function to load the Halabi dataset\n\n"
      ]
    },
    {
      "cell_type": "code",
      "execution_count": null,
      "metadata": {
        "collapsed": false
      },
      "outputs": [],
      "source": [
        "halabi = load_S1A_serine_proteases(paper='halabi')\n\nprint(halabi.keys())"
      ]
    },
    {
      "cell_type": "markdown",
      "metadata": {},
      "source": [
        "`halabi` is a dictionary with 6 elements:\n  - `sequence_ids`: a list of the sequence identifiers for the MSA\n  - `alignment`: the aligned sequences\n  - `sector_positions`: a Numpy NpzFile of the sectors' positions as found in\nthe Halabi study\n  - `metadata`: a Pandas dataframe containing metadata associated with the\nalignment, such as taxonomic information.\n  - `pdb_sequence`: a tuple of the pdb sequence of 3TGI (rat's trypsin)\n  - `pdb_positions`: a list of the named positions found in the PDB\n\n### Access the sequence data\n\n"
      ]
    },
    {
      "cell_type": "code",
      "execution_count": null,
      "metadata": {
        "collapsed": false
      },
      "outputs": [],
      "source": [
        "loaded_seqs = halabi[\"alignment\"]\nloaded_seqs_id = halabi[\"sequence_ids\"]\nprint(loaded_seqs[:5])\nprint(loaded_seqs_id[:5])\nprint()\nprint(\"Number of sequences:\", len(loaded_seqs))\n\nn_loaded_pos, n_loaded_seqs = len(loaded_seqs[0]), len(loaded_seqs)\nprint(f\"The loaded MSA has {n_loaded_seqs} sequences and {n_loaded_pos} \\\n      positions.\")"
      ]
    },
    {
      "cell_type": "markdown",
      "metadata": {},
      "source": [
        "### Filter the MSA\n\n"
      ]
    },
    {
      "cell_type": "code",
      "execution_count": null,
      "metadata": {
        "collapsed": false
      },
      "outputs": [],
      "source": [
        "sequences, sequences_id, positions = c_msa.filter_sequences(\n    loaded_seqs, loaded_seqs_id, gap_threshold=0.4, seq_threshold=0.2)\nn_pos = len(positions)\nprint(f\"After filtering, we have {n_pos} remaining positions.\")\nprint(f\"After filtering, we have {len(sequences)} remaining sequences.\")"
      ]
    },
    {
      "cell_type": "markdown",
      "metadata": {},
      "source": [
        "### Compute the number of effective sequences\n\n"
      ]
    },
    {
      "cell_type": "code",
      "execution_count": null,
      "metadata": {
        "collapsed": false
      },
      "outputs": [],
      "source": [
        "seq_weights, m_eff = c_pos.compute_seq_weights(sequences)\nprint('Number of effective sequences %d' % np.round(m_eff))\nprint()"
      ]
    },
    {
      "cell_type": "markdown",
      "metadata": {},
      "source": [
        "### Access the metadata\n\n"
      ]
    },
    {
      "cell_type": "code",
      "execution_count": null,
      "metadata": {
        "collapsed": false
      },
      "outputs": [],
      "source": [
        "metadata = halabi[\"metadata\"]\nprint(metadata)"
      ]
    },
    {
      "cell_type": "markdown",
      "metadata": {},
      "source": [
        "The `Seq_ID` column corresponds to the sequence identifiers found in\n`loaded_seqs_id`\n\n### Access PDB information\n\n"
      ]
    },
    {
      "cell_type": "code",
      "execution_count": null,
      "metadata": {
        "collapsed": false
      },
      "outputs": [],
      "source": [
        "pdb_seq = halabi[\"pdb_sequence\"]\npdb_pos = halabi[\"pdb_positions\"]\nprint(\"Start of 3TGI sequence:\\n\", pdb_seq[:10])\nprint(\"Named positions of the first ten residues in 3TGI protein sequence:\\n\",\n      pdb_pos[:10])"
      ]
    },
    {
      "cell_type": "markdown",
      "metadata": {},
      "source": [
        "### Access sector information\n\n"
      ]
    },
    {
      "cell_type": "code",
      "execution_count": null,
      "metadata": {
        "collapsed": false
      },
      "outputs": [],
      "source": [
        "sectors = halabi[\"sector_positions\"]\nprint(sectors)"
      ]
    },
    {
      "cell_type": "markdown",
      "metadata": {},
      "source": [
        "There are three sectors that have been identified in Halabi et al. (2008)\n\n"
      ]
    },
    {
      "cell_type": "code",
      "execution_count": null,
      "metadata": {
        "collapsed": false
      },
      "outputs": [],
      "source": [
        "print(\"The first sector identified in Halabi et al. is composed of the \\\n      following positions:\", sectors[\"sector_1\"])"
      ]
    },
    {
      "cell_type": "markdown",
      "metadata": {},
      "source": [
        "To see an example on how to use this dataset for a coevolution analysis, go\nto: `sphx_glr_auto_examples_b_advanced_plot_full_SCA_analysis.py`\n\nFor an example on how to visualize cocoatree's results with this dataset, go\nto :\n`sphx_glr_auto_examples_c_visualizations_plot_tree_metadata_xcor_seq_and_coevol.py`\n\n"
      ]
    },
    {
      "cell_type": "markdown",
      "metadata": {},
      "source": [
        "## Rivoire dataset\nSimilarly, you can access the dataset from Rivoire et al. (2016) paper:\n\n"
      ]
    },
    {
      "cell_type": "code",
      "execution_count": null,
      "metadata": {
        "collapsed": false
      },
      "outputs": [],
      "source": [
        "rivoire = load_S1A_serine_proteases(paper='rivoire')\nprint(rivoire.keys())\n\nloaded_seqs = rivoire[\"alignment\"]\nloaded_seqs_id = rivoire[\"sequence_ids\"]\nprint(\"Number of sequences:\", len(loaded_seqs))\n\nn_loaded_pos, n_loaded_seqs = len(loaded_seqs[0]), len(loaded_seqs)\nprint(f\"The loaded MSA has {n_loaded_seqs} sequences and {n_loaded_pos} \\\n      positions.\")"
      ]
    },
    {
      "cell_type": "markdown",
      "metadata": {},
      "source": [
        "The dataset is organized in the same way as Halabi's, although in this case\nthere are 6 sectors:\n\n"
      ]
    },
    {
      "cell_type": "code",
      "execution_count": null,
      "metadata": {
        "collapsed": false
      },
      "outputs": [],
      "source": [
        "sectors = rivoire[\"sector_positions\"]\nprint(sorted(sectors))\n\nfor sect in sectors:\n    print(sect, \"is composed of:\", len(sectors[sect]), \"positions.\")"
      ]
    },
    {
      "cell_type": "markdown",
      "metadata": {},
      "source": [
        "## References\n\n.. [1] [Protein Sectors: Evolutionary Units of Three-Dimensional Structure](https://doi-org.insb.bib.cnrs.fr/10.1016/j.cell.2009.07.038),\n       Halabi et al., Cell 2008\n.. [2] [Evolution-Based Functional Decomposition of Proteins](https://doi.org/10.1371/journal.pcbi.1004817),\n       Rivoire et al., PLOS Computational Biology 2016\n\n"
      ]
    }
  ],
  "metadata": {
    "kernelspec": {
      "display_name": "Python 3",
      "language": "python",
      "name": "python3"
    },
    "language_info": {
      "codemirror_mode": {
        "name": "ipython",
        "version": 3
      },
      "file_extension": ".py",
      "mimetype": "text/x-python",
      "name": "python",
      "nbconvert_exporter": "python",
      "pygments_lexer": "ipython3",
      "version": "3.11.13"
    }
  },
  "nbformat": 4,
  "nbformat_minor": 0
}