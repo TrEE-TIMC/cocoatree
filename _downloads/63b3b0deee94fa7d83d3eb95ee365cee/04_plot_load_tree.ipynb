{
  "cells": [
    {
      "cell_type": "markdown",
      "metadata": {},
      "source": [
        "\n# Load a tree file\n\nThis is a small example expliciting how to load a tree file in :mod:`cocoatree`\nusing :func:`cocoatree.io.load_tree_ete3` function.\n"
      ]
    },
    {
      "cell_type": "code",
      "execution_count": null,
      "metadata": {
        "collapsed": false
      },
      "outputs": [],
      "source": [
        "from cocoatree.io import load_tree_ete3"
      ]
    },
    {
      "cell_type": "markdown",
      "metadata": {},
      "source": [
        "Let's start by creating a simplified tree:\n\n"
      ]
    },
    {
      "cell_type": "code",
      "execution_count": null,
      "metadata": {
        "collapsed": false
      },
      "outputs": [],
      "source": [
        "simple_tree = \"(A:1,(B:1,(C:1,D:1):0.5):0.5);\"\nt = load_tree_ete3(simple_tree)\nprint(t)"
      ]
    },
    {
      "cell_type": "markdown",
      "metadata": {},
      "source": [
        "Here, we have a tree with distances and leaf names. The distances are\nspecified after the ``:`` character and the leaf names are A, B, C, and D.\n\n"
      ]
    },
    {
      "cell_type": "markdown",
      "metadata": {},
      "source": [
        ":func:`cocoatree.io.load_tree_ete3` also accepts trees with more information\nsuch as branch support values encoded as follow:\n\n"
      ]
    },
    {
      "cell_type": "code",
      "execution_count": null,
      "metadata": {
        "collapsed": false
      },
      "outputs": [],
      "source": [
        "bootstrap_tree = \"(A:1,(B:1,(C:1,D:1)95:0.5)98:0.5);\"\nt_boot = load_tree_ete3(bootstrap_tree)"
      ]
    },
    {
      "cell_type": "markdown",
      "metadata": {},
      "source": [
        "The branch support values are placed following their corresponding closing\nbracket.\n\n"
      ]
    },
    {
      "cell_type": "markdown",
      "metadata": {},
      "source": [
        "<div class=\"alert alert-danger\"><h4>Warning</h4><p>Only one type of branch support value is accepted (i.e. a file with\n      bootstrap and jack-knife branch support values will not be accepted).\n\n      Branch support values should not be between square brackets as those\n      are not accepted.</p></div>\n\n"
      ]
    },
    {
      "cell_type": "markdown",
      "metadata": {},
      "source": [
        ".. seealso::\n      `sphx_glr_auto_examples_c_visualizations_plot_simple_tree.py` for\n      a simple tree visualization or `sphx_glr_auto_examples_\\\n      c_visualizations_plot_tree_metadata_xcor_seq_and_coevol.py` for a more\n      complete visualization.\n\n"
      ]
    }
  ],
  "metadata": {
    "kernelspec": {
      "display_name": "Python 3",
      "language": "python",
      "name": "python3"
    },
    "language_info": {
      "codemirror_mode": {
        "name": "ipython",
        "version": 3
      },
      "file_extension": ".py",
      "mimetype": "text/x-python",
      "name": "python",
      "nbconvert_exporter": "python",
      "pygments_lexer": "ipython3",
      "version": "3.11.13"
    }
  },
  "nbformat": 4,
  "nbformat_minor": 0
}