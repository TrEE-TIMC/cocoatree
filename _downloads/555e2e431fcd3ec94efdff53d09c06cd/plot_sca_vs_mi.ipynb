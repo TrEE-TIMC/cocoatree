{
  "cells": [
    {
      "cell_type": "markdown",
      "metadata": {},
      "source": [
        "\n# Mutual information versus SCA\n\nIn this example, we are comparing the results of the co-evolution analysis on\nserine proteases using SCA and the mutual information.\n"
      ]
    },
    {
      "cell_type": "markdown",
      "metadata": {},
      "source": [
        "Import necessary\n\n"
      ]
    },
    {
      "cell_type": "code",
      "execution_count": null,
      "metadata": {
        "collapsed": false
      },
      "outputs": [],
      "source": [
        "from cocoatree.datasets import load_S1A_serine_proteases\nfrom cocoatree.msa import filter_sequences\n\nfrom cocoatree.statistics.position import compute_conservation\nfrom cocoatree.statistics.pairwise import compute_sca_matrix\nfrom cocoatree.statistics.pairwise import compute_mutual_information_matrix\n\nimport matplotlib.pyplot as plt\n\nimport numpy as np"
      ]
    },
    {
      "cell_type": "markdown",
      "metadata": {},
      "source": [
        "## Load the dataset\n\nWe start by importing the dataset.\n\n"
      ]
    },
    {
      "cell_type": "code",
      "execution_count": null,
      "metadata": {
        "collapsed": false
      },
      "outputs": [],
      "source": [
        "serine_dataset = load_S1A_serine_proteases(paper='rivoire')\nseq_id = serine_dataset[\"sequence_ids\"]\nsequences = serine_dataset[\"alignment\"]\nn_pos, n_seq = len(sequences[0]), len(sequences)"
      ]
    },
    {
      "cell_type": "markdown",
      "metadata": {},
      "source": [
        "## Filtering of the multiple sequence alignment\n\nWe are going to filter and clean the MSA\n\n"
      ]
    },
    {
      "cell_type": "code",
      "execution_count": null,
      "metadata": {
        "collapsed": false
      },
      "outputs": [],
      "source": [
        "seq_kept, seq_id_kept, pos_kept = filter_sequences(sequences, seq_id)"
      ]
    },
    {
      "cell_type": "markdown",
      "metadata": {},
      "source": [
        "## Compute the SCA matrix\n\n"
      ]
    },
    {
      "cell_type": "code",
      "execution_count": null,
      "metadata": {
        "collapsed": false
      },
      "outputs": [],
      "source": [
        "SCA_matrix = compute_sca_matrix(seq_kept)"
      ]
    },
    {
      "cell_type": "markdown",
      "metadata": {},
      "source": [
        "## Compute the Mutual information matrix\n\n"
      ]
    },
    {
      "cell_type": "code",
      "execution_count": null,
      "metadata": {
        "collapsed": false
      },
      "outputs": [],
      "source": [
        "normalized_MI = compute_mutual_information_matrix(seq_kept)\nMI = compute_mutual_information_matrix(seq_kept, normalize=False)"
      ]
    },
    {
      "cell_type": "markdown",
      "metadata": {},
      "source": [
        "## Compare MI versus SCA\n\n"
      ]
    },
    {
      "cell_type": "code",
      "execution_count": null,
      "metadata": {
        "collapsed": false
      },
      "outputs": [],
      "source": [
        "plt.figure(figsize=(12, 5))\n\nfor ih, (heatmap, title) in \\\n    enumerate(zip([SCA_matrix, MI, normalized_MI],\n                  ['SCA matrix', 'Mutual Information',\n                   'Normalized Mutual Information'])):\n    plt.subplot(1, 3, ih+1)\n    plt.imshow(heatmap, cmap='inferno')\n    plt.xlabel('residues', fontsize=10)\n    plt.ylabel(None)\n    plt.title('%s' % title)\n    plt.colorbar(shrink=0.4)"
      ]
    },
    {
      "cell_type": "markdown",
      "metadata": {},
      "source": [
        "## Adapt heatmap scale\n\n"
      ]
    },
    {
      "cell_type": "code",
      "execution_count": null,
      "metadata": {
        "collapsed": false
      },
      "outputs": [],
      "source": [
        "plt.figure(figsize=(12, 5))\n\nfor ih, (heatmap, title, vmm) in \\\n    enumerate(zip([SCA_matrix, MI, normalized_MI],\n                  ['SCA matrix', 'Mutual Information',\n                   'Normalized Mutual Information'],\n                  [[0, 1], [0, 0.8], [0, 0.2]])):\n    plt.subplot(1, 3, ih+1)\n    plt.imshow(heatmap, vmin=vmm[0], vmax=vmm[1], cmap='inferno')\n    plt.xlabel('residues', fontsize=10)\n    plt.ylabel(None)\n    plt.title('%s' % title)\n    plt.colorbar(shrink=0.4)"
      ]
    },
    {
      "cell_type": "markdown",
      "metadata": {},
      "source": [
        "## Relationships between SCA and MI's\n\n"
      ]
    },
    {
      "cell_type": "code",
      "execution_count": null,
      "metadata": {
        "collapsed": false
      },
      "outputs": [],
      "source": [
        "plt.figure(figsize=(12, 3))\nplt.subplot(1, 3, 1)\nplt.plot(np.triu(SCA_matrix, 1).flatten(),\n         np.triu(normalized_MI, 1).flatten(), 'o')\nplt.xlabel('SCA matrix')\nplt.ylabel('Normalized Mutual Information')\n\nplt.subplot(1, 3, 2)\nplt.plot(np.triu(MI, 1).flatten(), np.triu(normalized_MI, 1).flatten(), 'o')\nplt.xlabel('Mutual Information')\nplt.ylabel('Normalized Mutual Information')\n\nplt.subplot(1, 3, 3)\nplt.plot(np.triu(SCA_matrix, 1).flatten(), np.triu(MI, 1).flatten(), 'o')\nplt.xlabel('SCA matrix')\nplt.ylabel('Mutual Information')"
      ]
    },
    {
      "cell_type": "markdown",
      "metadata": {},
      "source": [
        "## Relationship between coevolution metrics and conservation\n\n"
      ]
    },
    {
      "cell_type": "code",
      "execution_count": null,
      "metadata": {
        "collapsed": false
      },
      "outputs": [],
      "source": [
        "plt.figure(figsize=(12, 3))\n\nDi = compute_conservation(seq_kept)\n\nfor ih, (heatmap, title) in enumerate(zip([SCA_matrix, MI, normalized_MI],\n                                          ['SCA', 'MI', 'normalized MI'])):\n    plt.subplot(1, 3, ih + 1)\n    cumul = np.sum(heatmap, axis=0) - np.diag(heatmap)\n    plt.plot(Di, cumul, 'o')\n    plt.xlabel('conservation')\n    if ih == 0:\n        plt.ylabel('cumulative score')\n    plt.title(title)"
      ]
    }
  ],
  "metadata": {
    "kernelspec": {
      "display_name": "Python 3",
      "language": "python",
      "name": "python3"
    },
    "language_info": {
      "codemirror_mode": {
        "name": "ipython",
        "version": 3
      },
      "file_extension": ".py",
      "mimetype": "text/x-python",
      "name": "python",
      "nbconvert_exporter": "python",
      "pygments_lexer": "ipython3",
      "version": "3.11.12"
    }
  },
  "nbformat": 4,
  "nbformat_minor": 0
}