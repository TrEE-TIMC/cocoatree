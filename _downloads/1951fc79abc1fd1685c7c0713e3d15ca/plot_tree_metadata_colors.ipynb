{
  "cells": [
    {
      "cell_type": "markdown",
      "metadata": {},
      "source": [
        "\n# Specifying metadata's colors\n\nThe user can provide a dictionnary of colors for metadata.\n"
      ]
    },
    {
      "cell_type": "code",
      "execution_count": null,
      "metadata": {
        "collapsed": false
      },
      "outputs": [],
      "source": [
        "from cocoatree.io import load_MSA, load_tree_ete3\nfrom cocoatree.datasets import load_S1A_serine_proteases\nfrom cocoatree.visualization import update_tree_ete3_and_return_style"
      ]
    },
    {
      "cell_type": "markdown",
      "metadata": {},
      "source": [
        "## Load metadata\nHere we use metadata associated with the serine protease dataset but you\ncan use your own metadata by importing a csv file as a pandas dataframe.\nNote that your dataframe must have a `Seq_ID` column with identifiers that\nare identical to the ones in your MSA and in your newick tree.\n\n"
      ]
    },
    {
      "cell_type": "code",
      "execution_count": null,
      "metadata": {
        "collapsed": false
      },
      "outputs": [],
      "source": [
        "serine_dataset = load_S1A_serine_proteases('halabi')\ndf_annot = serine_dataset[\"metadata\"]\nprint(df_annot)"
      ]
    },
    {
      "cell_type": "markdown",
      "metadata": {},
      "source": [
        "Define a custom colormap as a dictionary. Each element in the dictionary\ncorresponds to a category in the metadata dataframe that you wish to\ndisplay. In this example, we use the columns `Protein_type`, `Subphylum`,\nand `Class`.\n\n"
      ]
    },
    {
      "cell_type": "code",
      "execution_count": null,
      "metadata": {
        "collapsed": false
      },
      "outputs": [],
      "source": [
        "halabi_cmap = {\n    'vertebrate': '#798e87',\n    'invertebrate': '#c27d38',\n    'fungi': '#ccc591',\n    'bacteria': '#29211f',\n    'Chymotrypsin': '#00a08a',\n    'Trypsin': '#ff0000',\n    'Tryptase': '#f2ad00',\n    'Kallikrein': '#f98400',\n    'Granzyme': '#5bbcd6',\n    'Mammalia': '#C969A1',\n    'Actinopterygii': '#CE4441',\n    'Amphibia': '#EE8577',\n    'Malacostraca': '#EB7926',\n    'other': 'lightgrey',\n    'Insecta': '#FFBB44',\n    'Actinobacteria': '#859B6C',\n    'Arachnida': '#62929A',\n    'Oligochaeta': '#004F63'\n}"
      ]
    },
    {
      "cell_type": "markdown",
      "metadata": {},
      "source": [
        "## Load sequence data\nLoad the sequences you wish to visualize with `cocoatree.io.load_msa()` as\na fasta file. The sequence names must correspond to `Seq_ID` and to the leaf\nnames in the tree file.\n\nSee the Perform full SCA analysis example on how to export a fasta of your\nsectors.\n\n"
      ]
    },
    {
      "cell_type": "code",
      "execution_count": null,
      "metadata": {
        "collapsed": false
      },
      "outputs": [],
      "source": [
        "sector_file = 'data/halabi_sector_1_SCA.fasta'\ndata = load_MSA(sector_file, 'fasta')\nsector_id = data[\"sequence_ids\"]\nprint(sector_id[:5])\nsector_seq = data[\"alignment\"]\nprint(sector_seq[:5])"
      ]
    },
    {
      "cell_type": "markdown",
      "metadata": {},
      "source": [
        "## Load tree file\n\n"
      ]
    },
    {
      "cell_type": "code",
      "execution_count": null,
      "metadata": {
        "collapsed": false
      },
      "outputs": [],
      "source": [
        "tree_file = 'data/halabi_82_seqs.txt'\ntree_ete3 = load_tree_ete3(tree_file)\nprint(tree_ete3)"
      ]
    },
    {
      "cell_type": "markdown",
      "metadata": {},
      "source": [
        "## Plot figure\nCreate the tree style that will be applied to your tree\n\n"
      ]
    },
    {
      "cell_type": "code",
      "execution_count": null,
      "metadata": {
        "collapsed": false
      },
      "outputs": [],
      "source": [
        "tree_style, column_layout = update_tree_ete3_and_return_style(\n    tree_ete3, df_annot,\n    sector_id=sector_id,\n    sector_seq=sector_seq,\n    meta_data=('Protein_type', 'Subphylum', 'Class'),\n    fig_title='Personnalized colormap example',\n    metadata_colors=halabi_cmap,\n    linewidth=3,\n    show_leaf_name=False,\n    t_sector_seq=True,\n    t_sector_heatmap=False,\n    colormap='GnBu'\n    )"
      ]
    },
    {
      "cell_type": "markdown",
      "metadata": {},
      "source": [
        "Save the figure:\n\n"
      ]
    },
    {
      "cell_type": "code",
      "execution_count": null,
      "metadata": {
        "collapsed": false
      },
      "outputs": [],
      "source": [
        "tree_ete3.render(\"sector_phylogeny_colors.png\", tree_style=tree_style)"
      ]
    }
  ],
  "metadata": {
    "kernelspec": {
      "display_name": "Python 3",
      "language": "python",
      "name": "python3"
    },
    "language_info": {
      "codemirror_mode": {
        "name": "ipython",
        "version": 3
      },
      "file_extension": ".py",
      "mimetype": "text/x-python",
      "name": "python",
      "nbconvert_exporter": "python",
      "pygments_lexer": "ipython3",
      "version": "3.11.13"
    }
  },
  "nbformat": 4,
  "nbformat_minor": 0
}