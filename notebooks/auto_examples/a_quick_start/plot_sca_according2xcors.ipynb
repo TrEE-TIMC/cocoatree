{
  "cells": [
    {
      "cell_type": "markdown",
      "metadata": {},
      "source": [
        "\n# Perform a minimal SCA analysis and plot SCA-related heatmaps\n\nThis example shows how to generate a SCA co-evolutionary matrix,\nreduce it, and sort it according to XCoRs.\n"
      ]
    },
    {
      "cell_type": "code",
      "execution_count": null,
      "metadata": {
        "collapsed": false
      },
      "outputs": [],
      "source": [
        "# Author: Margaux Jullien <margaux.jullien@univ-grenoble-alpes.fr>\n#         Nelle Varoquaux <nelle.varoquaux@univ-grenoble-alpes.fr>\n#         Ivan Junier <ivan.junier@univ-grenoble-alpes.fr>\n# License: TBD"
      ]
    },
    {
      "cell_type": "markdown",
      "metadata": {},
      "source": [
        "Necessary imports\n\n"
      ]
    },
    {
      "cell_type": "code",
      "execution_count": null,
      "metadata": {
        "collapsed": false
      },
      "outputs": [],
      "source": [
        "import numpy as np\nimport matplotlib.pyplot as plt\n\n\nimport cocoatree.datasets as c_data\nimport cocoatree.msa as c_msa\nimport cocoatree.deconvolution as c_deconv\n\nfrom cocoatree.statistics.pairwise import compute_sca_matrix"
      ]
    },
    {
      "cell_type": "markdown",
      "metadata": {},
      "source": [
        "## Loading the dataset\nFor more details on the S1A serine proteases dataset, go to\n`sphx_glr_auto_examples_d_datasets_plot_s1A_serine_proteases.py`.\n\n"
      ]
    },
    {
      "cell_type": "code",
      "execution_count": null,
      "metadata": {
        "collapsed": false
      },
      "outputs": [],
      "source": [
        "serine_dataset = c_data.load_S1A_serine_proteases()\nloaded_seqs = serine_dataset[\"alignment\"]\nloaded_seqs_id = serine_dataset[\"sequence_ids\"]\nn_loaded_pos, n_loaded_seqs = len(loaded_seqs[0]), len(loaded_seqs)"
      ]
    },
    {
      "cell_type": "markdown",
      "metadata": {},
      "source": [
        "## Filtering the MSA\n\n"
      ]
    },
    {
      "cell_type": "code",
      "execution_count": null,
      "metadata": {
        "collapsed": false
      },
      "outputs": [],
      "source": [
        "seq_kept, seq_id_kept, pos_kept = c_msa.filter_sequences(loaded_seqs,\n                                                         loaded_seqs_id)"
      ]
    },
    {
      "cell_type": "markdown",
      "metadata": {},
      "source": [
        "## Computing the SCA matrix\n\n"
      ]
    },
    {
      "cell_type": "code",
      "execution_count": null,
      "metadata": {
        "collapsed": false
      },
      "outputs": [],
      "source": [
        "SCA_matrix = compute_sca_matrix(seq_kept)"
      ]
    },
    {
      "cell_type": "markdown",
      "metadata": {},
      "source": [
        "## Plotting the SCA matrix\n\n"
      ]
    },
    {
      "cell_type": "code",
      "execution_count": null,
      "metadata": {
        "collapsed": false
      },
      "outputs": [],
      "source": [
        "fig, ax = plt.subplots()\nim = ax.imshow(SCA_matrix, vmin=0, vmax=2, cmap='inferno')\n\nax.set_xlabel('residues', fontsize=10)\nax.set_ylabel(None)\nax.set_title('SCA matrix')\nfig.colorbar(im, shrink=0.7)"
      ]
    },
    {
      "cell_type": "markdown",
      "metadata": {},
      "source": [
        "## Extracting XCoRs\n\n"
      ]
    },
    {
      "cell_type": "code",
      "execution_count": null,
      "metadata": {
        "collapsed": false
      },
      "outputs": [],
      "source": [
        "n_xcors = 3\nxcors = c_deconv.extract_xcors(SCA_matrix, n_xcors=n_xcors)\n\nprint('XCoR positions on (filtered) sequences:')\nfor ixcor, xcor in enumerate(xcors):\n    print('XCoR %d: %s' % (ixcor+1, xcor))"
      ]
    },
    {
      "cell_type": "markdown",
      "metadata": {},
      "source": [
        "A plotting function returning a reduced coevo matrix, keeping\nonly XCoRs and sorting the residues according to them\n-------------------------------------------------------------\n\n"
      ]
    },
    {
      "cell_type": "code",
      "execution_count": null,
      "metadata": {
        "collapsed": false
      },
      "outputs": [],
      "source": [
        "def plot_coevo_according2xcors(coevo_matrix, xcors=[], vmin=0, vmax=1e6):\n    fig, ax = plt.subplots(tight_layout=True)\n\n    xcor_sizes = [len(x) for x in xcors]\n    cumul_sizes = sum(xcor_sizes)\n    sorted_pos = [p for xcor in xcors for p in xcor]\n\n    im = ax.imshow(coevo_matrix[np.ix_(sorted_pos, sorted_pos)],\n                   vmin=vmin, vmax=vmax,\n                   interpolation='none', aspect='equal',\n                   extent=[0, cumul_sizes, 0, cumul_sizes], cmap='inferno')\n    cb = fig.colorbar(im)\n    cb.set_label(\"coevolution level\")\n\n    line_index = 0\n    for i in range(n_xcors):\n        ax.plot([line_index + xcor_sizes[i], line_index + xcor_sizes[i]],\n                [0, cumul_sizes], 'w', linewidth=2)\n        ax.plot([0, cumul_sizes], [cumul_sizes - line_index,\n                                   cumul_sizes - line_index], 'w', linewidth=2)\n        line_index += xcor_sizes[i]\n\n    return fig, ax"
      ]
    },
    {
      "cell_type": "markdown",
      "metadata": {},
      "source": [
        "## Plotting the SCA matrix according to the XCoRs\n\n"
      ]
    },
    {
      "cell_type": "code",
      "execution_count": null,
      "metadata": {
        "collapsed": false
      },
      "outputs": [],
      "source": [
        "fig, ax = plot_coevo_according2xcors(SCA_matrix, xcors, vmin=0, vmax=2)\nax.set_title('SCA matrix, sorted according to XCoRs')\nax.set_xlabel('XCoR\\'s positions', fontsize=10)"
      ]
    },
    {
      "cell_type": "markdown",
      "metadata": {},
      "source": [
        "Removing a global mode (ngm = no global mode),\ni.e., setting largest eigeinvalue to zero\n\n"
      ]
    },
    {
      "cell_type": "code",
      "execution_count": null,
      "metadata": {
        "collapsed": false
      },
      "outputs": [],
      "source": [
        "SCA_matrix_ngm = c_deconv.remove_global_correlations(SCA_matrix)"
      ]
    },
    {
      "cell_type": "markdown",
      "metadata": {},
      "source": [
        "## Plotting the SCA matrix without global mode according to the XCoRs\n\n"
      ]
    },
    {
      "cell_type": "code",
      "execution_count": null,
      "metadata": {
        "collapsed": false
      },
      "outputs": [],
      "source": [
        "fig, ax = plot_coevo_according2xcors(SCA_matrix_ngm, xcors, vmin=0, vmax=2)\nax.set_title('SCA matrix without global mode\\nsorted according to XCoRs')\nax.set_xlabel('XCoR\\'s positions', fontsize=10)"
      ]
    },
    {
      "cell_type": "markdown",
      "metadata": {},
      "source": [
        "## Adapting the coevolution scale\n\n"
      ]
    },
    {
      "cell_type": "code",
      "execution_count": null,
      "metadata": {
        "collapsed": false
      },
      "outputs": [],
      "source": [
        "fig, ax = plot_coevo_according2xcors(SCA_matrix_ngm, xcors, vmin=0, vmax=1)\nax.set_title('SCA matrix without global mode\\nsorted according to XCoRs')\nax.set_xlabel('XCoR\\'s positions', fontsize=10)"
      ]
    }
  ],
  "metadata": {
    "kernelspec": {
      "display_name": "Python 3",
      "language": "python",
      "name": "python3"
    },
    "language_info": {
      "codemirror_mode": {
        "name": "ipython",
        "version": 3
      },
      "file_extension": ".py",
      "mimetype": "text/x-python",
      "name": "python",
      "nbconvert_exporter": "python",
      "pygments_lexer": "ipython3",
      "version": "3.11.13"
    }
  },
  "nbformat": 4,
  "nbformat_minor": 0
}