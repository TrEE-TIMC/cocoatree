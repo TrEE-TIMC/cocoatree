{
  "cells": [
    {
      "cell_type": "markdown",
      "metadata": {},
      "source": [
        "\n# Compute SCA coevolution matrix\n\nA small example that shows how to load and filter an MSA, compute positional\nand joint amino acid frequencies and finally, compute the SCA coevolution\nmatrix.\n"
      ]
    },
    {
      "cell_type": "code",
      "execution_count": null,
      "metadata": {
        "collapsed": false
      },
      "outputs": [],
      "source": [
        "from cocoatree.msa import load_MSA, filter_gap_seq, filter_gap_pos, \\\n    seq_weights\nfrom cocoatree.statistics.position import aa_freq_at_pos, background_freq\nfrom cocoatree.statistics.pairwise import aa_joint_freq, compute_sca_matrix, \\\n    compute_seq_identity\n\n\nseq_id, sequences = load_MSA(\"data/s1Ahalabi_1470.an\", format=\"fasta\")\nNpos, Nseq = len(sequences[0]), len(sequences)\n\n# Filter overly gapped positions\nfilt_seqs, pos_kept = filter_gap_pos(sequences, threshold=0.4)\n\n# Filter overly gapped sequences\nseq_id_kept, seq_kept = filter_gap_seq(seq_id, filt_seqs, threshold=0.2,\n                                       filtrefseq=False)\n\n# Compute matrix of pairwise sequence identity\nsim_matrix = compute_seq_identity(seq_kept)\n\n# Compute sequence weights\nweights, Neff = seq_weights(sim_matrix)\n\n# compute allele frequencies\naa_freq = aa_freq_at_pos(seq_kept, lambda_coef=0.03, weights=weights)\n# Compute background frequencies\nqa = background_freq(aa_freq)\n# Compute joint allele frequencies\nfijab, fijab_ind = aa_joint_freq(seq_kept, weights=weights, lambda_coef=0.03)\n\n# Compute the SCA coevolution matrix\nCijab_raw, Cij = compute_sca_matrix(joint_freqs=fijab,\n                                    joint_freqs_ind=fijab_ind,\n                                    aa_freq=aa_freq,\n                                    qa=qa)"
      ]
    }
  ],
  "metadata": {
    "kernelspec": {
      "display_name": "Python 3",
      "language": "python",
      "name": "python3"
    },
    "language_info": {
      "codemirror_mode": {
        "name": "ipython",
        "version": 3
      },
      "file_extension": ".py",
      "mimetype": "text/x-python",
      "name": "python",
      "nbconvert_exporter": "python",
      "pygments_lexer": "ipython3",
      "version": "3.11.10"
    }
  },
  "nbformat": 4,
  "nbformat_minor": 0
}