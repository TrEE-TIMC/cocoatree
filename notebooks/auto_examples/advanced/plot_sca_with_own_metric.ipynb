{
  "cells": [
    {
      "cell_type": "markdown",
      "metadata": {},
      "source": [
        "\n# Running Cocoatree with your own metric\n\nIt is possible to perform Cocoatree's SCA pipeline by defining it's own\nmetric. In this example, we show how to use a callable to compute the\ncoevolution metric.\n"
      ]
    },
    {
      "cell_type": "code",
      "execution_count": null,
      "metadata": {
        "collapsed": false
      },
      "outputs": [],
      "source": [
        "import numpy as np\n\nimport cocoatree.datasets as c_data\nimport cocoatree\nfrom sklearn.metrics import pairwise\nfrom sklearn.preprocessing import OneHotEncoder"
      ]
    },
    {
      "cell_type": "markdown",
      "metadata": {},
      "source": [
        "## Load the dataset\n\nWe start by importing the dataset. In this case, we can directly load the S1\nserine protease dataset provided in :mod:`cocoatree`. To work on your on\ndataset, you can use the `cocoatree.io.load_msa` function.\n\n"
      ]
    },
    {
      "cell_type": "code",
      "execution_count": null,
      "metadata": {
        "collapsed": false
      },
      "outputs": [],
      "source": [
        "serine_dataset = c_data.load_S1A_serine_proteases()\nloaded_seqs = serine_dataset[\"alignment\"]\nloaded_seqs_id = serine_dataset[\"sequence_ids\"]\nn_loaded_pos, n_loaded_seqs = len(loaded_seqs[0]), len(loaded_seqs)\n\n\ndef compute_correlation(sequences, seq_weights=None, freq_regul=0.08):\n    seqs = np.array([[i for i in s] for s in sequences])\n    X = OneHotEncoder().fit_transform(seqs.T)\n    return pairwise.pairwise_kernels(X)\n\n\ncoevol_matrix, results = cocoatree.perform_sca(\n    loaded_seqs_id, loaded_seqs, n_components=3,\n    coevolution_metric=compute_correlation)"
      ]
    }
  ],
  "metadata": {
    "kernelspec": {
      "display_name": "Python 3",
      "language": "python",
      "name": "python3"
    },
    "language_info": {
      "codemirror_mode": {
        "name": "ipython",
        "version": 3
      },
      "file_extension": ".py",
      "mimetype": "text/x-python",
      "name": "python",
      "nbconvert_exporter": "python",
      "pygments_lexer": "ipython3",
      "version": "3.11.13"
    }
  },
  "nbformat": 4,
  "nbformat_minor": 0
}