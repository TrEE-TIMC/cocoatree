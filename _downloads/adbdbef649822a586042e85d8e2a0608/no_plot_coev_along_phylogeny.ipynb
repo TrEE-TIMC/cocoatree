{
  "cells": [
    {
      "cell_type": "markdown",
      "metadata": {},
      "source": [
        "\n# Plot final figure\n\nA small example that shows how to use the function\nplot_coev_along_phylogeny of the visualization module.\n"
      ]
    },
    {
      "cell_type": "code",
      "execution_count": null,
      "metadata": {
        "collapsed": false
      },
      "outputs": [],
      "source": [
        "import pandas as pd\nfrom cocoatree.io import load_MSA, load_tree\nfrom cocoatree.visualization import plot_coev_along_phylogeny\n\nannot_file = 'data/random_seq_tree_annotations.csv'\ndf_annot = pd.read_csv(annot_file)\ntree_file = 'data/random_seq_tree_kpicsg_ete3.treefile'\ntree, leaves_id = load_tree(tree_file)\nsector_file = 'data/SCA_sector_1_core_tagged_seq.fasta'\nsector_id, sector_seq = load_MSA(sector_file, 'fasta')\n\nplot_coev_along_phylogeny(tree, df_annot, sector_id, sector_seq,\n                          attributes=('HMM_annotation',),\n                          fig_title='Test HMM annot',\n                          rectface=True,\n                          seqmotif=True,\n                          heatmap=True,\n                          colormap='inferno')"
      ]
    }
  ],
  "metadata": {
    "kernelspec": {
      "display_name": "Python 3",
      "language": "python",
      "name": "python3"
    },
    "language_info": {
      "codemirror_mode": {
        "name": "ipython",
        "version": 3
      },
      "file_extension": ".py",
      "mimetype": "text/x-python",
      "name": "python",
      "nbconvert_exporter": "python",
      "pygments_lexer": "ipython3",
      "version": "3.11.11"
    }
  },
  "nbformat": 4,
  "nbformat_minor": 0
}