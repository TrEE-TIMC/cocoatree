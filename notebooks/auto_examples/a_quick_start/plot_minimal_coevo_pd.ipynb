{
  "cells": [
    {
      "cell_type": "markdown",
      "metadata": {},
      "source": [
        "\n# Perform a minimal coevo analysis\n\nThis example generates the same result as\n`sphx_glr_auto_examples_a_quick_start_plot_minimal_coevo.py`, but uses\nthe :func:`perforn_sca function, which f=ilters sequences and\nreturns the coevolution matrix and its associated objects of\ninterest (PCs, ICs, XCoRs) in Pandas format.\n"
      ]
    },
    {
      "cell_type": "code",
      "execution_count": null,
      "metadata": {
        "collapsed": false
      },
      "outputs": [],
      "source": [
        "# Author: Margaux Jullien <margaux.jullien@univ-grenoble-alpes.fr>\n#         Nelle Varoquaux <nelle.varoquaux@univ-grenoble-alpes.fr>\n#         Ivan Junier <ivan.junier@univ-grenoble-alpes.fr>\n# License: TBD"
      ]
    },
    {
      "cell_type": "markdown",
      "metadata": {},
      "source": [
        "Necessary imports\n\n"
      ]
    },
    {
      "cell_type": "code",
      "execution_count": null,
      "metadata": {
        "collapsed": false
      },
      "outputs": [],
      "source": [
        "import numpy as np\nimport matplotlib.pyplot as plt\n\nimport cocoatree\nimport cocoatree.datasets as c_data\nimport cocoatree.deconvolution as c_deconv"
      ]
    },
    {
      "cell_type": "markdown",
      "metadata": {},
      "source": [
        "## Loading the dataset\n\n"
      ]
    },
    {
      "cell_type": "code",
      "execution_count": null,
      "metadata": {
        "collapsed": false
      },
      "outputs": [],
      "source": [
        "serine_dataset = c_data.load_S1A_serine_proteases()\nloaded_seqs = serine_dataset[\"alignment\"]\nloaded_seqs_id = serine_dataset[\"sequence_ids\"]\nn_loaded_pos, n_loaded_seqs = len(loaded_seqs[0]), len(loaded_seqs)"
      ]
    },
    {
      "cell_type": "markdown",
      "metadata": {},
      "source": [
        "## Performing a SCA analysis\n\n"
      ]
    },
    {
      "cell_type": "code",
      "execution_count": null,
      "metadata": {
        "collapsed": false
      },
      "outputs": [],
      "source": [
        "SCA_matrix, SCA_matrix_ngm, df = cocoatree.perform_sca(\n    loaded_seqs_id, loaded_seqs, n_components=3)\n\nprint('The cocoatree.perform_sca returns the following columns:')\nprint(df.columns.values)"
      ]
    },
    {
      "cell_type": "markdown",
      "metadata": {},
      "source": [
        "## Plotting the SCA matrix\n\n"
      ]
    },
    {
      "cell_type": "code",
      "execution_count": null,
      "metadata": {
        "collapsed": false
      },
      "outputs": [],
      "source": [
        "fig, ax = plt.subplots()\nim = ax.imshow(SCA_matrix, vmin=0, vmax=2, cmap='inferno')\n\nax.set_xlabel('residues', fontsize=10)\nax.set_ylabel(None)\nax.set_title('SCA matrix')\nfig.colorbar(im, shrink=0.7)"
      ]
    },
    {
      "cell_type": "markdown",
      "metadata": {},
      "source": [
        "## Extracting XCoRs\n\n"
      ]
    },
    {
      "cell_type": "code",
      "execution_count": null,
      "metadata": {
        "collapsed": false
      },
      "outputs": [],
      "source": [
        "n_xcors = 3\nxcors = []\nfor ixcor in range(1, n_xcors+1):\n    print('XCoR_%d:' % ixcor, end=' ')\n    # extacting the unsorted xcor\n    xcor = df.loc[df['xcor_%d' % ixcor]]['filtered_msa_pos'].values\n\n    # sorting xcor according to its ICA value (from largest to smallest)\n    xcor = sorted(xcor, key=lambda x:\n                  -float(df.loc[df['filtered_msa_pos'] == x]\n                         ['IC%d' % ixcor].iloc[0]))\n\n    xcors.append(xcor)\n    print(xcors[-1])"
      ]
    },
    {
      "cell_type": "markdown",
      "metadata": {},
      "source": [
        "A plotting function returning a reduced coevo matrix, keeping\nonly XCoRs and sorting the residues according to them\n-------------------------------------------------------------\n\n"
      ]
    },
    {
      "cell_type": "code",
      "execution_count": null,
      "metadata": {
        "collapsed": false
      },
      "outputs": [],
      "source": [
        "def plot_coevo_according2xcors(coevo_matrix, xcors=[], vmin=0, vmax=1e6):\n    fig, ax = plt.subplots(tight_layout=True)\n\n    xcor_sizes = [len(x) for x in xcors]\n    cumul_sizes = sum(xcor_sizes)\n    sorted_pos = [p for xcor in xcors for p in xcor]\n\n    im = ax.imshow(coevo_matrix[np.ix_(sorted_pos, sorted_pos)],\n                   vmin=vmin, vmax=vmax,\n                   interpolation='none', aspect='equal',\n                   extent=[0, cumul_sizes, cumul_sizes, 0],\n                   cmap='inferno')\n    cb = fig.colorbar(im)\n    cb.set_label(\"coevolution level\")\n\n    line_index = 0\n    for i in range(n_xcors):\n        ax.plot([line_index + xcor_sizes[i], line_index + xcor_sizes[i]],\n                [0, cumul_sizes], 'w', linewidth=2)\n        ax.plot([0, cumul_sizes],\n                [line_index + xcor_sizes[i], line_index + xcor_sizes[i]],\n                'w', linewidth=2)\n        line_index += xcor_sizes[i]\n\n    xticks = []\n    for ix in range(len(xcors)):\n        shift = np.sum([len(xcors[j]) for j in range(ix)])\n        xticks.append(shift+len(xcors[ix])/2)\n\n    ax.set_xticks(xticks, ['XCoR_%d' % ix for ix in range(1, len(xcors)+1)])\n    ax.set_yticks(xticks, ['XCoR_%d' % ix for ix in range(1, len(xcors)+1)],\n                  rotation=90, va='center')\n\n    return fig, ax"
      ]
    },
    {
      "cell_type": "markdown",
      "metadata": {},
      "source": [
        "## Plotting the SCA matrix according to the XCoRs\n\n"
      ]
    },
    {
      "cell_type": "code",
      "execution_count": null,
      "metadata": {
        "collapsed": false
      },
      "outputs": [],
      "source": [
        "fig, ax = plot_coevo_according2xcors(SCA_matrix, xcors, vmin=0, vmax=2)\nax.set_title('SCA matrix, sorted according to XCoRs')\nax.set_xlabel('XCoR\\'s positions', fontsize=10)"
      ]
    },
    {
      "cell_type": "markdown",
      "metadata": {},
      "source": [
        "Removing a global mode (ngm = no global mode),\ni.e., setting largest eigeinvalue to zero\n\n"
      ]
    },
    {
      "cell_type": "code",
      "execution_count": null,
      "metadata": {
        "collapsed": false
      },
      "outputs": [],
      "source": [
        "SCA_matrix_ngm = c_deconv.remove_global_correlations(SCA_matrix)"
      ]
    },
    {
      "cell_type": "markdown",
      "metadata": {},
      "source": [
        "## Plotting the SCA matrix without global mode according to the XCoRs\n\n"
      ]
    },
    {
      "cell_type": "code",
      "execution_count": null,
      "metadata": {
        "collapsed": false
      },
      "outputs": [],
      "source": [
        "fig, ax = plot_coevo_according2xcors(SCA_matrix_ngm, xcors, vmin=0, vmax=2)\nax.set_title('SCA matrix without global mode\\nsorted according to XCoRs')\nax.set_xlabel('XCoR\\'s positions', fontsize=10)"
      ]
    },
    {
      "cell_type": "markdown",
      "metadata": {},
      "source": [
        "## Adapting the coevolution scale\n\n"
      ]
    },
    {
      "cell_type": "code",
      "execution_count": null,
      "metadata": {
        "collapsed": false
      },
      "outputs": [],
      "source": [
        "fig, ax = plot_coevo_according2xcors(SCA_matrix_ngm, xcors, vmin=0, vmax=1)\nax.set_title('SCA matrix without global mode\\nsorted according to XCoRs')\nax.set_xlabel('XCoR\\'s positions', fontsize=10)"
      ]
    },
    {
      "cell_type": "markdown",
      "metadata": {},
      "source": [
        "## Visualizing XCoRs on independent components\n\n"
      ]
    },
    {
      "cell_type": "code",
      "execution_count": null,
      "metadata": {
        "collapsed": false
      },
      "outputs": [],
      "source": [
        "# plotting IC_1 values versus IC_2 values\nfig, ax = plt.subplots()\nax.plot(df.loc[:, 'IC1'], df.loc[:, 'IC2'], '.k')\n\n# highlighting XCoR-associated values using a color code\n# red: XCoR_1, green: XCoR_2, blue: XCoR_3\nfor xcor, color in zip([1, 2, 3], ['r', 'g', 'b']):\n    ax.plot(df.loc[df['xcor_%d' % xcor], 'IC1'],\n            df.loc[df['xcor_%d' % xcor], 'IC2'],\n            '.', c=color, label='XCoR_%d' % xcor)\n\nax.set_xlabel('IC1')\nax.set_ylabel('IC2')\n\nax.legend()"
      ]
    }
  ],
  "metadata": {
    "kernelspec": {
      "display_name": "Python 3",
      "language": "python",
      "name": "python3"
    },
    "language_info": {
      "codemirror_mode": {
        "name": "ipython",
        "version": 3
      },
      "file_extension": ".py",
      "mimetype": "text/x-python",
      "name": "python",
      "nbconvert_exporter": "python",
      "pygments_lexer": "ipython3",
      "version": "3.11.13"
    }
  },
  "nbformat": 4,
  "nbformat_minor": 0
}