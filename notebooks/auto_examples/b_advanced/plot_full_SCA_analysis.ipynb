{
  "cells": [
    {
      "cell_type": "markdown",
      "metadata": {},
      "source": [
        "\n# Perform full SCA analysis on the S1A serine protease dataset\n\nThis example shows the full process to perform a complete SCA analysis\nand detect **eXtremal Co-evolving Residues (XCoR)** from data importation and\nMSA filtering to the computation of a SCA coevolution matrix, the extraction\nof principal and independent components, and the representation of coevolution\nwithin and between sectors.\n\nFinally, we export fasta files that are necessary for the sector visualization\nalong a phylogenetic tree.\n"
      ]
    },
    {
      "cell_type": "code",
      "execution_count": null,
      "metadata": {
        "collapsed": false
      },
      "outputs": [],
      "source": [
        "# Author: Margaux Jullien <margaux.jullien@univ-grenoble-alpes.fr>\n#         Nelle Varoquaux <nelle.varoquaux@univ-grenoble-alpes.fr>\n#         Ivan Junier <ivan.junier@univ-grenoble-alpes.fr>\n# License: TBD"
      ]
    },
    {
      "cell_type": "markdown",
      "metadata": {},
      "source": [
        "Import necessary\n\n"
      ]
    },
    {
      "cell_type": "code",
      "execution_count": null,
      "metadata": {
        "collapsed": false
      },
      "outputs": [],
      "source": [
        "import cocoatree.datasets as c_data\nimport cocoatree.io as c_io\nimport cocoatree.msa as c_msa\nimport cocoatree.statistics.position as c_pos\nimport cocoatree.statistics.pairwise as c_pw\nimport cocoatree.deconvolution as c_deconv\n\nimport matplotlib.pyplot as plt\nimport numpy as np"
      ]
    },
    {
      "cell_type": "markdown",
      "metadata": {},
      "source": [
        "## Load the dataset\n\nWe start by importing the dataset. In this case, we can directly load the S1\nserine protease dataset provided in :mod:`cocoatree`. To work on your own\ndataset, you can use the `cocoatree.io.load_msa` function.\n\n"
      ]
    },
    {
      "cell_type": "code",
      "execution_count": null,
      "metadata": {
        "collapsed": false
      },
      "outputs": [],
      "source": [
        "serine_dataset = c_data.load_S1A_serine_proteases('rivoire')\nloaded_seqs = serine_dataset[\"alignment\"]\nloaded_seqs_id = serine_dataset[\"sequence_ids\"]\nn_loaded_pos, n_loaded_seqs = len(loaded_seqs[0]), len(loaded_seqs)\n\nprint(f\"The loaded MSA has {n_loaded_seqs} sequences and {n_loaded_pos} \\\n      positions.\")"
      ]
    },
    {
      "cell_type": "markdown",
      "metadata": {},
      "source": [
        "## MSA filtering\n\nWe clean the loaded MSA by filtering both sequences and positions.\n\n\n"
      ]
    },
    {
      "cell_type": "code",
      "execution_count": null,
      "metadata": {
        "collapsed": false
      },
      "outputs": [],
      "source": [
        "sequences, sequences_id, positions = c_msa.filter_sequences(\n    loaded_seqs, loaded_seqs_id, gap_threshold=0.4, seq_threshold=0.2)\nn_pos = len(positions)\nprint(f\"After filtering, we have {n_pos} remaining positions.\")\nprint(f\"After filtering, we have {len(sequences)} remaining sequences.\")"
      ]
    },
    {
      "cell_type": "markdown",
      "metadata": {},
      "source": [
        "## Compute the matrix of pairwise sequence identity\n\nNote that the sequences in the matrix are in the same order as in the MSA.\nYou can use the `cocoatree.visualization.update_tree_ete3_and_return_style`\nfunction to represent a sequence similarity matrix ordered following a\nphylogenetic tree (see `Plot sector together with (phylogenetic) tree and\nmetadata <../doc/auto_examples/plot_sector_along_tree_and_metadata.html`_).\n\n"
      ]
    },
    {
      "cell_type": "code",
      "execution_count": null,
      "metadata": {
        "collapsed": false
      },
      "outputs": [],
      "source": [
        "identity_matrix = c_msa.compute_seq_identity(sequences)\n\nfig, ax = plt.subplots()\nm = ax.imshow(identity_matrix, vmin=0, vmax=1, cmap='GnBu')\nax.set_xlabel(\"sequences\", fontsize=10)\nax.set_ylabel(\"sequences\", fontsize=10)\nax.set_title('Matrix of pairwise sequence identity', fontweight=\"bold\")\ncb = fig.colorbar(m)\ncb.set_label(\"Pairwise sequence identity\", fontweight=\"bold\")"
      ]
    },
    {
      "cell_type": "markdown",
      "metadata": {},
      "source": [
        "Compute sequence weights\n\n"
      ]
    },
    {
      "cell_type": "code",
      "execution_count": null,
      "metadata": {
        "collapsed": false
      },
      "outputs": [],
      "source": [
        "seq_weights, m_eff = c_msa.compute_seq_weights(sequences)\nprint('Number of effective sequences %d' %\n      np.round(m_eff))"
      ]
    },
    {
      "cell_type": "markdown",
      "metadata": {},
      "source": [
        "## Compute conservation along the MSA\n\n"
      ]
    },
    {
      "cell_type": "code",
      "execution_count": null,
      "metadata": {
        "collapsed": false
      },
      "outputs": [],
      "source": [
        "Di = c_pos.compute_conservation(sequences, seq_weights)\n\nfig, ax = plt.subplots(figsize=(9, 4))\nxvals = [i+1 for i in range(len(Di))]\nxticks = [0, 50, 100, 150, 200, 250]\nax.bar(xvals, Di, color='k')\nplt.tick_params(labelsize=11)\nax.set_xticks(xticks)\nax.set_xlabel('residues', fontsize=14)\nax.set_ylabel('Di', fontsize=14)"
      ]
    },
    {
      "cell_type": "markdown",
      "metadata": {},
      "source": [
        "## Compute the SCA coevolution matrix\n\n"
      ]
    },
    {
      "cell_type": "code",
      "execution_count": null,
      "metadata": {
        "collapsed": false
      },
      "outputs": [],
      "source": [
        "SCA_matrix = c_pw.compute_sca_matrix(sequences, seq_weights)\n\nfig, ax = plt.subplots()\nim = ax.imshow(SCA_matrix, vmin=0, vmax=1.4, cmap='inferno')\n\nax.set_xlabel('residues', fontsize=10)\nax.set_ylabel(None)\nax.set_title('SCA matrix')\nfig.colorbar(im, shrink=0.7)"
      ]
    },
    {
      "cell_type": "markdown",
      "metadata": {},
      "source": [
        "Extract principal components (PCA analysis) and independent components\n(ICA analysis)\n----------------------------------------------------------------------\n\n(this can take some time because of randomization)\n\n"
      ]
    },
    {
      "cell_type": "code",
      "execution_count": null,
      "metadata": {
        "collapsed": false
      },
      "outputs": [],
      "source": [
        "n_components = 9\nprincipal_components = c_deconv.extract_principal_components(\n    SCA_matrix)\nidpt_components = c_deconv.extract_independent_components(\n    SCA_matrix,\n    n_components=n_components)"
      ]
    },
    {
      "cell_type": "markdown",
      "metadata": {},
      "source": [
        "## Plot components\n\n"
      ]
    },
    {
      "cell_type": "code",
      "execution_count": null,
      "metadata": {
        "collapsed": false
      },
      "outputs": [],
      "source": [
        "n_components_to_plot = n_components\nif n_components_to_plot % 2:\n    print('Odd number of components: the last one is discarded for \\\n          visualization')\n    n_components_to_plot -= 1\n\npairs = [[x, x+1] for x in range(0, n_components_to_plot, 2)]\nncols = len(pairs)\nplt.rcParams['figure.figsize'] = 14, 8\nfig, axes = plt.subplots(nrows=2, ncols=len(pairs), tight_layout=True)\nfor k, [k1, k2] in enumerate(pairs):\n    ax = axes[0, k]\n    ax.plot(principal_components[k1], principal_components[k2], 'ok')\n    ax.set_xlabel(\"PC %i\" % (k1+1), fontsize=16)\n    ax.set_ylabel(\"PC %i\" % (k2+1), fontsize=16)\n\n    ax = axes[1, k]\n    ax.plot(idpt_components[k1], idpt_components[k2], 'ok')\n    ax.set_xlabel(\"IC %i\" % (k1+1), fontsize=16)\n    ax.set_ylabel(\"IC %i\" % (k2+1), fontsize=16)"
      ]
    },
    {
      "cell_type": "markdown",
      "metadata": {},
      "source": [
        "## Extract sectors\n\nObtain a list of residues of each sector\n\n"
      ]
    },
    {
      "cell_type": "code",
      "execution_count": null,
      "metadata": {
        "collapsed": false
      },
      "outputs": [],
      "source": [
        "sectors = c_deconv.extract_sectors(idpt_components, SCA_matrix)\n\nprint('Sector positions on (filtered) sequences:')\nfor isec, sec in enumerate(sectors):\n    print('sector %d: %s' % (isec+1, sec))"
      ]
    },
    {
      "cell_type": "markdown",
      "metadata": {},
      "source": [
        "Note that the residue positions do not follow the order of the sequence but\nare ordered following a decreasing contribution to the independent component\n(the first residue of the list has the highest score).\n\n"
      ]
    },
    {
      "cell_type": "markdown",
      "metadata": {},
      "source": [
        "## Plot coevolution within and between the sectors\n\nEach white square corresponds to a sector, with the residues ordered in\ndecreasing contribution to the independent component associated from top to\nbottom and from left to right.\n\n"
      ]
    },
    {
      "cell_type": "code",
      "execution_count": null,
      "metadata": {
        "collapsed": false
      },
      "outputs": [],
      "source": [
        "fig, ax = plt.subplots(tight_layout=True)\n\nsector_sizes = [len(sec) for sec in sectors]\ncumul_sizes = sum(sector_sizes)\nsorted_pos = [s for sec in sectors for s in sec]\n\nim = ax.imshow(SCA_matrix[np.ix_(sorted_pos, sorted_pos)],\n               vmin=0, vmax=2,\n               interpolation='none', aspect='equal',\n               extent=[0, cumul_sizes, 0, cumul_sizes], cmap='inferno')\nax.set_title('SCA matrix, sorted according to sectors')\ncb = fig.colorbar(im)\ncb.set_label(\"coevolution level\")\n\nline_index = 0\nfor i in range(n_components):\n    ax.plot([line_index + sector_sizes[i], line_index + sector_sizes[i]],\n            [0, cumul_sizes], 'w', linewidth=2)\n    ax.plot([0, cumul_sizes], [cumul_sizes - line_index,\n                               cumul_sizes - line_index], 'w', linewidth=2)\n    line_index += sector_sizes[i]"
      ]
    },
    {
      "cell_type": "markdown",
      "metadata": {},
      "source": [
        "Do the same but for the SCA matrix where the global correlation mode has\nbeen removed and, hence, such that sectors are better highlighted.\nSee Rivoire et al., PLOSCB, 2016\n\n"
      ]
    },
    {
      "cell_type": "code",
      "execution_count": null,
      "metadata": {
        "collapsed": false
      },
      "outputs": [],
      "source": [
        "# removing global model (ngm = no global mode),\n# i.e., removing first principal component\nSCA_matrix_ngm = c_deconv.substract_first_principal_component(SCA_matrix)\n\n# plotting\nfig, ax = plt.subplots(tight_layout=True)\nim = ax.imshow(SCA_matrix_ngm[np.ix_(sorted_pos, sorted_pos)], vmin=0, vmax=1,\n               interpolation='none', aspect='equal',\n               extent=[0, sum(sector_sizes), 0, sum(sector_sizes)],\n               cmap='inferno')\nax.set_title('SCA matrix without global mode, sorted according to sectors')\ncb = fig.colorbar(im)\ncb.set_label(\"coevolution level\")\n\nline_index = 0\nfor i in range(n_components):\n    ax.plot([line_index + sector_sizes[i], line_index + sector_sizes[i]],\n            [0, sum(sector_sizes)], 'w', linewidth=2)\n    ax.plot([0, sum(sector_sizes)], [sum(sector_sizes) - line_index,\n                                     sum(sector_sizes) - line_index],\n            'w', linewidth=2)\n    line_index += sector_sizes[i]"
      ]
    },
    {
      "cell_type": "markdown",
      "metadata": {},
      "source": [
        "## Export sector sequences in fasta format\n\nThe file can then be used for visualization along a phylogenetic tree\nas implemented in :mod:`cocoatree.visualization`.\n\nHere, the positions are ordered in decreasing contribution to the\nindependent component to which the sector is associated.\n\n"
      ]
    },
    {
      "cell_type": "code",
      "execution_count": null,
      "metadata": {
        "collapsed": false
      },
      "outputs": [],
      "source": [
        "sector_1_pos = list(positions[sectors[0]])\nsector_1 = []\nfor sequence in range(len(sequences_id)):\n    seq = ''\n    for pos in sector_1_pos:\n        seq += loaded_seqs[sequence][pos]\n    sector_1.append(seq)\n\nc_io.export_fasta(sector_1, sequences_id, 'sector_1.fasta')"
      ]
    },
    {
      "cell_type": "code",
      "execution_count": null,
      "metadata": {
        "collapsed": false
      },
      "outputs": [],
      "source": [
        "if False:  # need to be revised\n    # %\n    # Export files necessary for Pymol visualization\n    # Load PDB file of rat's trypsin\n    pdb_seq, pdb_pos = c_io.load_pdb('data/3TGI.pdb', pdb_id='TRYPSIN',\n                                     chain='E')\n    # Map PDB positions on the MSA sequence corresponding to rat's trypsin:\n    # seq_id='14719441'\n    pdb_mapping = c_msa.map_to_pdb(pdb_seq, pdb_pos, sequences, sequences_id,\n                                   ref_seq_id='14719441')\n    # Export lists of the first sector positions and each residue's\n    # contribution to the independent component to use for visualization on\n    # Pymol.\n    # The residues are ordered in the list by decreasing contribution score\n    # (the first residue in the list is the highest contributing)\n    c_io.export_sector_for_pymol(pdb_mapping, idpt_components.T, axis=0,\n                                 sector_pos=sector_1_pos,\n                                 ics=sectors,\n                                 outpath='color_sector_1_pymol.npy')"
      ]
    }
  ],
  "metadata": {
    "kernelspec": {
      "display_name": "Python 3",
      "language": "python",
      "name": "python3"
    },
    "language_info": {
      "codemirror_mode": {
        "name": "ipython",
        "version": 3
      },
      "file_extension": ".py",
      "mimetype": "text/x-python",
      "name": "python",
      "nbconvert_exporter": "python",
      "pygments_lexer": "ipython3",
      "version": "3.11.13"
    }
  },
  "nbformat": 4,
  "nbformat_minor": 0
}