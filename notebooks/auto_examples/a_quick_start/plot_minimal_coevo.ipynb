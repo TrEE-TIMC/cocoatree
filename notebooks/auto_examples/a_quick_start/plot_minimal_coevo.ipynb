{
  "cells": [
    {
      "cell_type": "markdown",
      "metadata": {},
      "source": [
        "\n# Perform a minimal coevo analysis\n\nThis example shows how to perform a minimal co-evolutionary analysis\nusing the SCA approach. This includes:\n\n- generating a SCA co-evolutionary matrix, reduce it, and sort it according\nto XCoRs,\n- showing the position composition of XCoRs,\n- plotting the XCoRs using the independent component projections.\n"
      ]
    },
    {
      "cell_type": "code",
      "execution_count": null,
      "metadata": {
        "collapsed": false
      },
      "outputs": [],
      "source": [
        "# Author: Margaux Jullien <margaux.jullien@univ-grenoble-alpes.fr>\n#         Nelle Varoquaux <nelle.varoquaux@univ-grenoble-alpes.fr>\n#         Ivan Junier <ivan.junier@univ-grenoble-alpes.fr>\n# License: TBD"
      ]
    },
    {
      "cell_type": "markdown",
      "metadata": {},
      "source": [
        "Necessary imports\n\n"
      ]
    },
    {
      "cell_type": "code",
      "execution_count": null,
      "metadata": {
        "collapsed": false
      },
      "outputs": [],
      "source": [
        "import numpy as np\nimport matplotlib.pyplot as plt\n\n\nimport cocoatree.datasets as c_data\nimport cocoatree.msa as c_msa\nimport cocoatree.deconvolution as c_deconv\n\nfrom cocoatree.statistics.pairwise import compute_sca_matrix"
      ]
    },
    {
      "cell_type": "markdown",
      "metadata": {},
      "source": [
        "## Loading the dataset\n\n"
      ]
    },
    {
      "cell_type": "code",
      "execution_count": null,
      "metadata": {
        "collapsed": false
      },
      "outputs": [],
      "source": [
        "serine_dataset = c_data.load_S1A_serine_proteases()\nloaded_seqs = serine_dataset[\"alignment\"]\nloaded_seqs_id = serine_dataset[\"sequence_ids\"]\nn_loaded_pos, n_loaded_seqs = len(loaded_seqs[0]), len(loaded_seqs)"
      ]
    },
    {
      "cell_type": "markdown",
      "metadata": {},
      "source": [
        "## Filtering the MSA\n\n"
      ]
    },
    {
      "cell_type": "code",
      "execution_count": null,
      "metadata": {
        "collapsed": false
      },
      "outputs": [],
      "source": [
        "seq_kept, seq_id_kept, pos_kept = c_msa.filter_sequences(loaded_seqs,\n                                                         loaded_seqs_id)"
      ]
    },
    {
      "cell_type": "markdown",
      "metadata": {},
      "source": [
        "## Computing the SCA matrix\n\n"
      ]
    },
    {
      "cell_type": "code",
      "execution_count": null,
      "metadata": {
        "collapsed": false
      },
      "outputs": [],
      "source": [
        "SCA_matrix = compute_sca_matrix(seq_kept)"
      ]
    },
    {
      "cell_type": "markdown",
      "metadata": {},
      "source": [
        "## Plotting the SCA matrix\n\n"
      ]
    },
    {
      "cell_type": "code",
      "execution_count": null,
      "metadata": {
        "collapsed": false
      },
      "outputs": [],
      "source": [
        "fig, ax = plt.subplots()\nim = ax.imshow(SCA_matrix, vmin=0, vmax=2, cmap='inferno')\n\nax.set_xlabel('residues', fontsize=10)\nax.set_ylabel(None)\nax.set_title('SCA matrix')\nfig.colorbar(im, shrink=0.7)"
      ]
    },
    {
      "cell_type": "markdown",
      "metadata": {},
      "source": [
        "## Extracting XCoRs\n\n"
      ]
    },
    {
      "cell_type": "code",
      "execution_count": null,
      "metadata": {
        "collapsed": false
      },
      "outputs": [],
      "source": [
        "n_xcors = 3\nxcors = c_deconv.extract_xcors(SCA_matrix, n_xcors=n_xcors)\n\nprint('XCoR positions on (filtered) sequences:')\nfor ixcor, xcor in enumerate(xcors):\n    print('XCoR_%d: %s' % (ixcor+1, xcor))"
      ]
    },
    {
      "cell_type": "markdown",
      "metadata": {},
      "source": [
        "A plotting function returning a reduced coevo matrix, keeping\nonly XCoRs and sorting the residues according to them\n-------------------------------------------------------------\n\n"
      ]
    },
    {
      "cell_type": "code",
      "execution_count": null,
      "metadata": {
        "collapsed": false
      },
      "outputs": [],
      "source": [
        "def plot_coevo_according2xcors(coevo_matrix, xcors=[], vmin=0, vmax=1e6):\n    fig, ax = plt.subplots(tight_layout=True)\n\n    xcor_sizes = [len(x) for x in xcors]\n    cumul_sizes = sum(xcor_sizes)\n    sorted_pos = [p for xcor in xcors for p in xcor]\n\n    im = ax.imshow(coevo_matrix[np.ix_(sorted_pos, sorted_pos)],\n                   vmin=vmin, vmax=vmax,\n                   interpolation='none', aspect='equal',\n                   extent=[0, cumul_sizes, cumul_sizes, 0],\n                   cmap='inferno')\n    cb = fig.colorbar(im)\n    cb.set_label(\"coevolution level\")\n\n    line_index = 0\n    for i in range(n_xcors):\n        ax.plot([line_index + xcor_sizes[i], line_index + xcor_sizes[i]],\n                [0, cumul_sizes], 'w', linewidth=2)\n        ax.plot([0, cumul_sizes],\n                [line_index + xcor_sizes[i], line_index + xcor_sizes[i]],\n                'w', linewidth=2)\n        line_index += xcor_sizes[i]\n\n    xticks = []\n    for ix in range(len(xcors)):\n        shift = np.sum([len(xcors[j]) for j in range(ix)])\n        xticks.append(shift+len(xcors[ix])/2)\n\n    ax.set_xticks(xticks, ['XCoR_%d' % ix for ix in range(1, len(xcors)+1)])\n    ax.set_yticks(xticks, ['XCoR_%d' % ix for ix in range(1, len(xcors)+1)],\n                  rotation=90, va='center')\n\n    return fig, ax"
      ]
    },
    {
      "cell_type": "markdown",
      "metadata": {},
      "source": [
        "## Plotting the SCA matrix according to the XCoRs\n\n"
      ]
    },
    {
      "cell_type": "code",
      "execution_count": null,
      "metadata": {
        "collapsed": false
      },
      "outputs": [],
      "source": [
        "fig, ax = plot_coevo_according2xcors(SCA_matrix, xcors, vmin=0, vmax=2)\nax.set_title('SCA matrix, sorted according to XCoRs')\nax.set_xlabel('XCoR\\'s positions', fontsize=10)"
      ]
    },
    {
      "cell_type": "markdown",
      "metadata": {},
      "source": [
        "Removing a global mode (ngm = no global mode),\ni.e., setting largest eigeinvalue to zero\n\n"
      ]
    },
    {
      "cell_type": "code",
      "execution_count": null,
      "metadata": {
        "collapsed": false
      },
      "outputs": [],
      "source": [
        "SCA_matrix_ngm = c_deconv.remove_global_correlations(SCA_matrix)"
      ]
    },
    {
      "cell_type": "markdown",
      "metadata": {},
      "source": [
        "## Plotting the SCA matrix without global mode according to the XCoRs\n\n"
      ]
    },
    {
      "cell_type": "code",
      "execution_count": null,
      "metadata": {
        "collapsed": false
      },
      "outputs": [],
      "source": [
        "fig, ax = plot_coevo_according2xcors(SCA_matrix_ngm, xcors, vmin=0, vmax=2)\nax.set_title('SCA matrix without global mode\\nsorted according to XCoRs')\nax.set_xlabel('XCoR\\'s positions', fontsize=10)"
      ]
    },
    {
      "cell_type": "markdown",
      "metadata": {},
      "source": [
        "## Adapting the coevolution scale\n\n"
      ]
    },
    {
      "cell_type": "code",
      "execution_count": null,
      "metadata": {
        "collapsed": false
      },
      "outputs": [],
      "source": [
        "fig, ax = plot_coevo_according2xcors(SCA_matrix_ngm, xcors, vmin=0, vmax=1)\nax.set_title('SCA matrix without global mode\\nsorted according to XCoRs')\nax.set_xlabel('XCoR\\'s positions', fontsize=10)"
      ]
    },
    {
      "cell_type": "markdown",
      "metadata": {},
      "source": [
        "## Visualizing XCoRs on independent components\n\n"
      ]
    },
    {
      "cell_type": "code",
      "execution_count": null,
      "metadata": {
        "collapsed": false
      },
      "outputs": [],
      "source": [
        "# extracting independent components\nICs = c_deconv.extract_independent_components(SCA_matrix,\n                                              n_components=n_xcors)\n\n# plotting IC_1 values versus IC_2 values\nfig, ax = plt.subplots()\nax.plot(ICs[0], ICs[1], '.k')\n\n# highlighting XCoR-associated values using a color code\n# red: XCoR_1, green: XCoR_2, blue: XCoR_3\nfor ixcor, color in zip([0, 1, 2], ['r', 'g', 'b']):\n    ax.plot(ICs[0][xcors[ixcor]], ICs[1][xcors[ixcor]],\n            '.', c=color, label='XCoR_%d' % (ixcor+1))\n\nax.set_xlabel('IC1')\nax.set_ylabel('IC2')\n\nax.legend()"
      ]
    }
  ],
  "metadata": {
    "kernelspec": {
      "display_name": "Python 3",
      "language": "python",
      "name": "python3"
    },
    "language_info": {
      "codemirror_mode": {
        "name": "ipython",
        "version": 3
      },
      "file_extension": ".py",
      "mimetype": "text/x-python",
      "name": "python",
      "nbconvert_exporter": "python",
      "pygments_lexer": "ipython3",
      "version": "3.11.13"
    }
  },
  "nbformat": 4,
  "nbformat_minor": 0
}