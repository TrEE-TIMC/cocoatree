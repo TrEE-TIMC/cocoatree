{
  "cells": [
    {
      "cell_type": "markdown",
      "metadata": {},
      "source": [
        "\n# Perform full SCA analysis on the S1A serine protease dataset\n\nThis example shows the full process to perform a complete coevolution\nanalysis in order to detect protein sectors from data importation, MSA\nfiltering, computation of positional and joint amino acid frequencies,\nand computation of the SCA coevolution matrix.\n\nThe matrix is then decomposed into principal components and independent\ncomponent analysis is performed.\n\nIn the end, we export a fasta file of the residues contributing to the first\nindependent component.\n"
      ]
    },
    {
      "cell_type": "code",
      "execution_count": null,
      "metadata": {
        "collapsed": false
      },
      "outputs": [],
      "source": [
        "# Author: Margaux Jullien <margaux.jullien@univ-grenoble-alpes.fr>\n#         Nelle Varoquaux <nelle.varoquaux@univ-grenoble-alpes.fr>\n#         Ivan Junier <ivan.junier@univ-grenoble-alpes.fr>\n# License: TBD"
      ]
    },
    {
      "cell_type": "markdown",
      "metadata": {},
      "source": [
        "Import necessary\n\n"
      ]
    },
    {
      "cell_type": "code",
      "execution_count": null,
      "metadata": {
        "collapsed": false
      },
      "outputs": [],
      "source": [
        "from cocoatree.datasets import load_S1A_serine_proteases\nfrom cocoatree.io import export_fasta, load_pdb, export_sector_for_pymol\nfrom cocoatree.msa import filter_sequences, compute_seq_identity, \\\n    compute_seq_weights, map_to_pdb\nfrom cocoatree.statistics.position import compute_conservation\nfrom cocoatree.statistics.pairwise import compute_sca_matrix\n\nfrom cocoatree.deconvolution import eigen_decomp, compute_ica, \\\n    choose_num_components, extract_positions_from_IC\nfrom cocoatree.randomize import randomization\nimport matplotlib.pyplot as plt\nimport numpy as np"
      ]
    },
    {
      "cell_type": "markdown",
      "metadata": {},
      "source": [
        "## Load the dataset\n\nWe start by importing the dataset. In this case, we can directly load the S1\nserine protease dataset provided in :mod:`cocoatree`. To work on your on\ndataset, you can use the `cocoatree.io.load_msa` function.\n\n"
      ]
    },
    {
      "cell_type": "code",
      "execution_count": null,
      "metadata": {
        "collapsed": false
      },
      "outputs": [],
      "source": [
        "serine_dataset = load_S1A_serine_proteases()\nseq_id = serine_dataset[\"sequence_ids\"]\nsequences = serine_dataset[\"alignment\"]\nn_pos, n_seq = len(sequences[0]), len(sequences)\n\nprint(f\"The loaded MSA has {n_seq} sequences and {n_pos} positions.\")"
      ]
    },
    {
      "cell_type": "markdown",
      "metadata": {},
      "source": [
        "## MSA filtering\n\nWe are going to clean a bit the loaded MSA by filtering both sequences and\npositions.\n\n\n"
      ]
    },
    {
      "cell_type": "code",
      "execution_count": null,
      "metadata": {
        "collapsed": false
      },
      "outputs": [],
      "source": [
        "seq_id_kept, seq_kept, pos_kept = filter_sequences(\n    seq_id, sequences, gap_threshold=0.4, seq_threshold=0.2)\nn_pos_kept = len(pos_kept)\nprint(f\"After filtering, we have {n_pos_kept} remaining positions.\")\nprint(f\"After filtering, we have {len(seq_kept)} remaining sequences.\")"
      ]
    },
    {
      "cell_type": "markdown",
      "metadata": {},
      "source": [
        "## Compute the matrix of pairwise sequence identity\n\n"
      ]
    },
    {
      "cell_type": "code",
      "execution_count": null,
      "metadata": {
        "collapsed": false
      },
      "outputs": [],
      "source": [
        "sim_matrix = compute_seq_identity(seq_kept)\n\nfig, ax = plt.subplots()\nm = ax.imshow(sim_matrix, vmin=0, vmax=1, cmap='inferno')\nax.set_xlabel(\"sequences\", fontsize=10)\nax.set_ylabel(\"sequences\", fontsize=10)\nax.set_title('Matrix of pairwise sequence identity', fontweight=\"bold\")\ncb = fig.colorbar(m)\ncb.set_label(\"Pairwise sequence identity\", fontweight=\"bold\")"
      ]
    },
    {
      "cell_type": "markdown",
      "metadata": {},
      "source": [
        "Compute sequence weights\n\n"
      ]
    },
    {
      "cell_type": "code",
      "execution_count": null,
      "metadata": {
        "collapsed": false
      },
      "outputs": [],
      "source": [
        "seq_weights, m_eff = compute_seq_weights(seq_kept)\nprint(f\"Number of effective sequences {m_eff}\")"
      ]
    },
    {
      "cell_type": "markdown",
      "metadata": {},
      "source": [
        "## Compute conservation along the MSA\n\n"
      ]
    },
    {
      "cell_type": "code",
      "execution_count": null,
      "metadata": {
        "collapsed": false
      },
      "outputs": [],
      "source": [
        "Di = compute_conservation(seq_kept, seq_weights)\n\nfig, ax = plt.subplots(figsize=(9, 4))\nxvals = [i+1 for i in range(len(Di))]\nxticks = [0, 50, 100, 150, 200, 250]\nax.bar(xvals, Di, color='k')\nplt.tick_params(labelsize=11)\nax.set_xticks(xticks)\nax.set_xlabel('Residue position', fontsize=14)\nax.set_ylabel('Di', fontsize=14)"
      ]
    },
    {
      "cell_type": "markdown",
      "metadata": {},
      "source": [
        "## Compute the SCA coevolution matrix\n\n"
      ]
    },
    {
      "cell_type": "code",
      "execution_count": null,
      "metadata": {
        "collapsed": false
      },
      "outputs": [],
      "source": [
        "SCA_matrix = compute_sca_matrix(seq_kept, seq_weights)\n\nfig, ax = plt.subplots()\nim = ax.imshow(SCA_matrix, vmin=0, vmax=1.4, cmap='inferno')\n\nax.set_xlabel('Residue', fontsize=10)\nax.set_ylabel(None)\nax.set_title('Coevolution matrix')\nfig.colorbar(im, shrink=0.7)"
      ]
    },
    {
      "cell_type": "markdown",
      "metadata": {},
      "source": [
        "### Decomposition of the matrix into principal components\n\n"
      ]
    },
    {
      "cell_type": "code",
      "execution_count": null,
      "metadata": {
        "collapsed": false
      },
      "outputs": [],
      "source": [
        "eigenvalues, eigenvectors = eigen_decomp(SCA_matrix)"
      ]
    },
    {
      "cell_type": "markdown",
      "metadata": {},
      "source": [
        "Plot distribution of eigenvalues\n\n"
      ]
    },
    {
      "cell_type": "code",
      "execution_count": null,
      "metadata": {
        "collapsed": false
      },
      "outputs": [],
      "source": [
        "fig, ax = plt.subplots()\nax.hist(eigenvalues, bins=100, color=\"black\")\nax.set_ylabel('Number', fontweight=\"bold\")\nax.set_xlabel('Eigenvalue', fontweight=\"bold\")"
      ]
    },
    {
      "cell_type": "markdown",
      "metadata": {},
      "source": [
        "### Select number of significant components\n\nA randomization strategy is used in order to select the number of components.\nThe function `cocoatree.randomize.randomization` runs the full SCA\npipeline on randomized version of the MSA. Make sure that weights and lambda\ncoefficient are set the same way as the when performing the analysis on the\nreal dataset.\n\n"
      ]
    },
    {
      "cell_type": "code",
      "execution_count": null,
      "metadata": {
        "collapsed": false
      },
      "outputs": [],
      "source": [
        "if False:\n    v_rand, l_rand = randomization(seq_kept, n_rep=10,\n                                   seq_weights=seq_weights, kmax=10)\n    n_components = choose_num_components(eigenvalues, l_rand)\n    print('n_components = ' + str(n_components))\n\n    hist0, bins = np.histogram(l_rand.flatten(), bins=n_pos_kept,\n                               range=(0, eigenvalues.max()))\n    hist1, bins = np.histogram(eigenvalues, bins=n_pos_kept,\n                               range=(0, eigenvalues.max()))\n\n    fig, ax = plt.subplots()\n    ax.bar(bins[:-1], hist1, np.diff(bins), color='k')\n    ax.plot(bins[:-1], hist0/10, 'r', linewidth=3)\n    ax.set_xlabel('Eigenvalues', fontweight=\"bold\")\n    ax.set_ylabel('Numbers', fontweight=\"bold\")\nn_components = 7"
      ]
    },
    {
      "cell_type": "markdown",
      "metadata": {},
      "source": [
        "### Independent component analysis (ICA)\n\n"
      ]
    },
    {
      "cell_type": "code",
      "execution_count": null,
      "metadata": {
        "collapsed": false
      },
      "outputs": [],
      "source": [
        "independent_components, W = compute_ica(\n    eigenvectors, kmax=n_components, learnrate=0.1,\n    iterations=100000)\n\n# Plot results\nif n_components % 2 != 0:\n    print('Uneven number of axes, discard the last one for visual \\\n          representation')\n    n_components -= 1\n\npairs = [[x, x+1] for x in range(0, n_components, 2)]\nncols = len(pairs)\nplt.rcParams['figure.figsize'] = 14, 8\nfig, axes = plt.subplots(nrows=2, ncols=len(pairs), tight_layout=True)\nfor k, [k1, k2] in enumerate(pairs):\n    ax = axes[0, k]\n    ax.plot(eigenvectors[:, k1], eigenvectors[:, k2], 'ok')\n    ax.set_xlabel(\"eigenvector %i\" % (k1+1), fontsize=16)\n    ax.set_ylabel(\"eigenvector %i\" % (k2+1), fontsize=16)\n\n    ax = axes[1, k]\n    ax.plot(independent_components[:, k1], independent_components[:, k2], 'ok')\n    ax.set_xlabel(\"independent component %i\" % (k1+1), fontsize=16)\n    ax.set_ylabel(\"independent component %i\" % (k2+1), fontsize=16)"
      ]
    },
    {
      "cell_type": "markdown",
      "metadata": {},
      "source": [
        "Select residues that significantly contribute to each independent component\n\n"
      ]
    },
    {
      "cell_type": "code",
      "execution_count": null,
      "metadata": {
        "collapsed": false
      },
      "outputs": [],
      "source": [
        "ics, icsize, sortedpos, cutoff, scaled_pdf, all_fits = \\\n    extract_positions_from_IC(independent_components, n_components, SCA_matrix,\n                              p_cut=0.95)\n\nprint(f\"Sizes of the {n_components} ICs: {icsize}\")"
      ]
    },
    {
      "cell_type": "markdown",
      "metadata": {},
      "source": [
        "Plot coevolution within and between the sectors\nEach white square corresponds to a sector, with the residues ordered in\ndecreasing contribution to the independent component associated from top to\nbottom and from left to right.\n\n"
      ]
    },
    {
      "cell_type": "code",
      "execution_count": null,
      "metadata": {
        "collapsed": false
      },
      "outputs": [],
      "source": [
        "fig, ax = plt.subplots(tight_layout=True)\nim = ax.imshow(SCA_matrix[np.ix_(sortedpos, sortedpos)], vmin=0, vmax=2,\n               interpolation='none', aspect='equal',\n               extent=[0, sum(icsize), 0, sum(icsize)], cmap='inferno')\ncb = fig.colorbar(im)\ncb.set_label(\"Coevolution measure\")\n\nline_index = 0\nfor i in range(n_components):\n    ax.plot([line_index + icsize[i], line_index + icsize[i]],\n            [0, sum(icsize)], 'w', linewidth=2)\n    ax.plot([0, sum(icsize)], [sum(icsize) - line_index,\n                               sum(icsize) - line_index], 'w', linewidth=2)\n    line_index += icsize[i]"
      ]
    },
    {
      "cell_type": "markdown",
      "metadata": {},
      "source": [
        "Export fasta files of the sectors for all the sequences\nThose fasta can then be used for visualization along a phylogenetic tree\nas implemented in the cocoatree.visualization module\n\n"
      ]
    },
    {
      "cell_type": "code",
      "execution_count": null,
      "metadata": {
        "collapsed": false
      },
      "outputs": [],
      "source": [
        "sector_1_pos = list(pos_kept[ics[0].items])\nsector_1 = []\nfor sequence in range(len(seq_id)):\n    seq = ''\n    for pos in sector_1_pos:\n        seq += sequences[sequence][pos]\n    sector_1.append(seq)\n\nexport_fasta(sector_1, seq_id, 'sector_1.fasta')\n\n# %\n# Export files necessary for Pymol visualization\n# Load PDB file of rat's trypsin\npdb_seq, pdb_pos = load_pdb('data/3TGI.pdb', pdb_id='TRIPSIN', chain='E')\n# Map PDB positions on the MSA sequence corresponding to rat's trypsin:\n# seq_id='14719441'\npdb_mapping = map_to_pdb(pdb_seq, pdb_pos, sequences, seq_id,\n                         ref_seq_id='14719441')\n# Export lists of the first sector positions and each residue's contribution\n# to the independent component to use for visualization on Pymol.\n# The residues are ordered in the list by decreasing contribution score (the\n# first residue in the list is the highest contributing)\nexport_sector_for_pymol(pdb_mapping, independent_components, axis=0,\n                        sector_pos=sector_1_pos,\n                        ics=ics,\n                        outpath='color_sector_1_pymol.npy')"
      ]
    }
  ],
  "metadata": {
    "kernelspec": {
      "display_name": "Python 3",
      "language": "python",
      "name": "python3"
    },
    "language_info": {
      "codemirror_mode": {
        "name": "ipython",
        "version": 3
      },
      "file_extension": ".py",
      "mimetype": "text/x-python",
      "name": "python",
      "nbconvert_exporter": "python",
      "pygments_lexer": "ipython3",
      "version": "3.11.11"
    }
  },
  "nbformat": 4,
  "nbformat_minor": 0
}