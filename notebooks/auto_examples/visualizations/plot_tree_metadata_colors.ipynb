{
  "cells": [
    {
      "cell_type": "markdown",
      "metadata": {},
      "source": [
        "\n# Specifying metadata's colors\n\nThe user can provide a dictionnary of colors for metadata.\n"
      ]
    },
    {
      "cell_type": "code",
      "execution_count": null,
      "metadata": {
        "collapsed": false
      },
      "outputs": [],
      "source": [
        "import pandas as pd\nfrom cocoatree.io import load_MSA, load_tree_ete3\nfrom cocoatree.visualization import update_tree_ete3_and_return_style\n\n\nannot_file = 'data/random_seq_tree_annotations.csv'\ndf_annot = pd.read_csv(annot_file)\n\ntree_file = 'data/random_seq_tree_kpicsg_ete3.treefile'\ntree_ete3 = load_tree_ete3(tree_file)\n\nsector_file = 'data/SCA_sector_1_core_tagged_seq.fasta'\ndata = load_MSA(sector_file, 'fasta')\n\nsector_id = data[\"sequence_ids\"]\nsector_seq = data[\"alignment\"]\n\n\ncolors = {\n    \"Bacteria\": \"black\",\n    \"Eukaryota\": \"#cccccc\",\n    \"FMO_Cyano\": \"#fff5f0\",\n    \"UbiL\": \"#fdd4c2\",\n    \"UbiI\": \"#fca082\",\n    \"UbiH\": \"#fb694a\",\n    \"UbiF\": \"#e32f27\",\n    \"UbiN\": \"#b11218\",\n    \"UbiFHILM_Cyano\": \"#67000d\",\n    }\n\n\ntree_style, column_layout = update_tree_ete3_and_return_style(\n    tree_ete3, df_annot, sector_id, sector_seq,\n    meta_data=(\"superkingdom\", \"HMM_annotation\"),\n    fig_title='Visualization example',\n    metadata_colors=colors,\n    linewidth=3,\n    show_leaf_name=False,\n    t_sector_seq=True,\n    t_sector_heatmap=False,\n    colormap='inferno'\n    )\n\n\ntree_ete3.render(\"sector_phylogeny_colors.png\", tree_style=tree_style)"
      ]
    }
  ],
  "metadata": {
    "kernelspec": {
      "display_name": "Python 3",
      "language": "python",
      "name": "python3"
    },
    "language_info": {
      "codemirror_mode": {
        "name": "ipython",
        "version": 3
      },
      "file_extension": ".py",
      "mimetype": "text/x-python",
      "name": "python",
      "nbconvert_exporter": "python",
      "pygments_lexer": "ipython3",
      "version": "3.11.13"
    }
  },
  "nbformat": 4,
  "nbformat_minor": 0
}