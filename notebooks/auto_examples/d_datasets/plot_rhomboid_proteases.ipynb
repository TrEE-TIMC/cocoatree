{
  "cells": [
    {
      "cell_type": "markdown",
      "metadata": {},
      "source": [
        "\n# Rhomboid proteases\n\nThis example shows how the Rhomboid dataset is organized and how you can use it\nto test cocoatree's features.\n"
      ]
    },
    {
      "cell_type": "markdown",
      "metadata": {},
      "source": [
        "Load the dataset\n\n"
      ]
    },
    {
      "cell_type": "code",
      "execution_count": null,
      "metadata": {
        "collapsed": false
      },
      "outputs": [],
      "source": [
        "import numpy as np\nfrom cocoatree.datasets import load_rhomboid_proteases\nimport cocoatree.msa as c_msa\nimport cocoatree.statistics.position as c_pos\n\ndataset = load_rhomboid_proteases()\nprint(dataset.keys())"
      ]
    },
    {
      "cell_type": "markdown",
      "metadata": {},
      "source": [
        "`dataset` is a dictionary with 6 elements:\n  - `sequence_ids`: a list of the sequence identifiers for the MSA\n  - `alignment`: the aligned sequences\n  - `sector_positions`: a Numpy NpzFile of the sectors' positions as found in\nthe Mihaljevi\u0107 and Urban study\n  - `metadata`: a Pandas dataframe containing metadata associated with the\nalignment, such as taxonomic information.\n  - `pdb_sequence`: a tuple of the pdb sequence of E. coli's PDB\n  - `pdb_positions`: a list of the named positions found in the PDB\n\n## Access the sequence data\n\n"
      ]
    },
    {
      "cell_type": "code",
      "execution_count": null,
      "metadata": {
        "collapsed": false
      },
      "outputs": [],
      "source": [
        "loaded_seqs = dataset[\"alignment\"]\nloaded_seqs_id = dataset[\"sequence_ids\"]\nn_loaded_pos, n_loaded_seqs = len(loaded_seqs[0]), len(loaded_seqs)\n\nprint(f\"The loaded MSA has {n_loaded_seqs} sequences and {n_loaded_pos} \\\n      positions.\")"
      ]
    },
    {
      "cell_type": "markdown",
      "metadata": {},
      "source": [
        "## Example of sequence filtering\n\n"
      ]
    },
    {
      "cell_type": "code",
      "execution_count": null,
      "metadata": {
        "collapsed": false
      },
      "outputs": [],
      "source": [
        "sequences, sequences_id, positions = c_msa.filter_sequences(\n    loaded_seqs, loaded_seqs_id, gap_threshold=0.4, seq_threshold=0.2)\nn_pos = len(positions)\nprint(f\"After filtering, we have {n_pos} remaining positions.\")\nprint(f\"After filtering, we have {len(sequences)} remaining sequences.\")\n\nseq_weights, m_eff = c_pos.compute_seq_weights(sequences)\nprint('Number of effective sequences %d' %\n      np.round(m_eff))"
      ]
    },
    {
      "cell_type": "markdown",
      "metadata": {},
      "source": [
        "## Access sector information\n\n"
      ]
    },
    {
      "cell_type": "code",
      "execution_count": null,
      "metadata": {
        "collapsed": false
      },
      "outputs": [],
      "source": [
        "sectors = dataset[\"sector_positions\"]\nprint(\"There are\", len(sectors), \"sectors\")\n\nfor sect in sectors:\n    print(sect, \"is composed of:\", len(sectors[sect]), \"positions.\")"
      ]
    },
    {
      "cell_type": "markdown",
      "metadata": {},
      "source": [
        "Note that the above sector positions are relative to E. coli's PDB sequence.\n\n"
      ]
    },
    {
      "cell_type": "markdown",
      "metadata": {},
      "source": [
        "## Access metadata\n\n"
      ]
    },
    {
      "cell_type": "code",
      "execution_count": null,
      "metadata": {
        "collapsed": false
      },
      "outputs": [],
      "source": [
        "metadata = dataset[\"metadata\"]\nprint(metadata)"
      ]
    },
    {
      "cell_type": "markdown",
      "metadata": {},
      "source": [
        "## Access PDB information\n\n"
      ]
    },
    {
      "cell_type": "code",
      "execution_count": null,
      "metadata": {
        "collapsed": false
      },
      "outputs": [],
      "source": [
        "pdb_seq = dataset[\"pdb_sequence\"]\npdb_pos = dataset[\"pdb_positions\"]\nprint(\"Start of E. coli's sequence:\\n\", pdb_seq[:10])\nprint(\"Named positions of the first ten residues in E. coli's sequence:\\n\",\n      pdb_pos[:10])"
      ]
    },
    {
      "cell_type": "markdown",
      "metadata": {},
      "source": [
        "### References\n\n.. [1] [Decoding the Functional Evolution of an Intramembrane Protease\n       Superfamily by Statistical Coupling Analysis](https://doi.org/10.1016/j.str.2020.07.015),\n       Mihaljevi\u0107 and Urban, Structure 2020\n\n"
      ]
    }
  ],
  "metadata": {
    "kernelspec": {
      "display_name": "Python 3",
      "language": "python",
      "name": "python3"
    },
    "language_info": {
      "codemirror_mode": {
        "name": "ipython",
        "version": 3
      },
      "file_extension": ".py",
      "mimetype": "text/x-python",
      "name": "python",
      "nbconvert_exporter": "python",
      "pygments_lexer": "ipython3",
      "version": "3.11.13"
    }
  },
  "nbformat": 4,
  "nbformat_minor": 0
}