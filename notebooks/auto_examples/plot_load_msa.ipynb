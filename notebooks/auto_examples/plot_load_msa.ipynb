{
  "cells": [
    {
      "cell_type": "markdown",
      "metadata": {},
      "source": [
        "\n# Compute SCA coevolution matrix\n\nA small example that shows how to load and filter an MSA, compute positional\nand joint amino acid frequencies and compute the SCA coevolution matrix.\nThe matrix is then decomposed into principal components and independent\ncomponent analysis is performed.\n"
      ]
    },
    {
      "cell_type": "code",
      "execution_count": null,
      "metadata": {
        "collapsed": false
      },
      "outputs": [],
      "source": [
        "# Author: Margaux Jullien <margaux.jullien@univ-grenoble-alpes.fr>\n#         Nelle Varoquaux <nelle.varoquaux@univ-grenoble-alpes.fr>\n# License: TBD"
      ]
    },
    {
      "cell_type": "code",
      "execution_count": null,
      "metadata": {
        "collapsed": false
      },
      "outputs": [],
      "source": [
        "from cocoatree.io import load_MSA\nfrom cocoatree.msa import filter_gap_seq, filter_gap_pos, seq_weights\nfrom cocoatree.statistics.position import aa_freq_at_pos, background_freq\nfrom cocoatree.statistics.pairwise import aa_joint_freq, compute_sca_matrix, \\\n    compute_seq_identity\nfrom cocoatree.deconvolution import eigen_decomp, compute_ica\nimport matplotlib.pyplot as plt"
      ]
    },
    {
      "cell_type": "markdown",
      "metadata": {},
      "source": [
        "## Import MSA\n\n"
      ]
    },
    {
      "cell_type": "code",
      "execution_count": null,
      "metadata": {
        "collapsed": false
      },
      "outputs": [],
      "source": [
        "seq_id, sequences = load_MSA(\"data/s1Ahalabi_1470.an\", format=\"fasta\")\nNpos, Nseq = len(sequences[0]), len(sequences)"
      ]
    },
    {
      "cell_type": "markdown",
      "metadata": {},
      "source": [
        "## MSA filtering\n\n### Filter overly gapped positions\n\n"
      ]
    },
    {
      "cell_type": "code",
      "execution_count": null,
      "metadata": {
        "collapsed": false
      },
      "outputs": [],
      "source": [
        "filt_seqs, pos_kept = filter_gap_pos(sequences, threshold=0.4)\n\n# Filter overly gapped sequences\n# ^^^^^^^^^^^^^^^^^^^^^^^^^^^^^^\n\nseq_id_kept, seq_kept = filter_gap_seq(seq_id, filt_seqs, threshold=0.2,\n                                       filtrefseq=False)"
      ]
    },
    {
      "cell_type": "markdown",
      "metadata": {},
      "source": [
        "## Compute matrix of pairwise sequence identity\n\n"
      ]
    },
    {
      "cell_type": "code",
      "execution_count": null,
      "metadata": {
        "collapsed": false
      },
      "outputs": [],
      "source": [
        "sim_matrix = compute_seq_identity(seq_kept)"
      ]
    },
    {
      "cell_type": "code",
      "execution_count": null,
      "metadata": {
        "collapsed": false
      },
      "outputs": [],
      "source": [
        "fig = plt.figure()\nplt.rcParams['figure.figsize'] = 10, 10\nplt.xlabel('Sequences', fontsize=10)\nplt.ylabel(None)\nplt.title('Matrix of pairwise sequence identity')\nplt.imshow(sim_matrix, vmin=0, vmax=1, cmap='inferno')\nplt.colorbar(shrink=0.7)\nplt.show()"
      ]
    },
    {
      "cell_type": "markdown",
      "metadata": {},
      "source": [
        "Compute sequence weights\n\n"
      ]
    },
    {
      "cell_type": "code",
      "execution_count": null,
      "metadata": {
        "collapsed": false
      },
      "outputs": [],
      "source": [
        "weights, Neff = seq_weights(sim_matrix)\n\n# compute allele frequencies\naa_freq = aa_freq_at_pos(seq_kept, lambda_coef=0.03, weights=weights)\n# Compute background frequencies\nqa = background_freq(aa_freq)\n# Compute joint allele frequencies\nfijab, fijab_ind = aa_joint_freq(seq_kept, weights=weights, lambda_coef=0.03)"
      ]
    },
    {
      "cell_type": "markdown",
      "metadata": {},
      "source": [
        "## Compute the SCA coevolution matrix\n\n"
      ]
    },
    {
      "cell_type": "code",
      "execution_count": null,
      "metadata": {
        "collapsed": false
      },
      "outputs": [],
      "source": [
        "Cijab_raw, Cij = compute_sca_matrix(joint_freqs=fijab,\n                                    joint_freqs_ind=fijab_ind,\n                                    aa_freq=aa_freq,\n                                    qa=qa)"
      ]
    },
    {
      "cell_type": "code",
      "execution_count": null,
      "metadata": {
        "collapsed": false
      },
      "outputs": [],
      "source": [
        "fig = plt.figure()\nplt.rcParams['figure.figsize'] = 10, 10\nplt.xlabel('Residue', fontsize=10)\nplt.ylabel(None)\nplt.title('Coevolution matrix')\nplt.imshow(Cij, vmin=0, vmax=1.4, cmap='inferno')\nplt.colorbar(shrink=0.7)\nplt.show()\n\n# Decomposition of the matrix into principal components\n# ^^^^^^^^^^^^^^^^^^^^^^^^^^^^^^^^^^^^^^^^^^^^^^^^^^^^^\n\neigenvalues, eigenvectors = eigen_decomp(Cij)"
      ]
    },
    {
      "cell_type": "markdown",
      "metadata": {},
      "source": [
        "Plot distribution of eigenvalues\n\n"
      ]
    },
    {
      "cell_type": "code",
      "execution_count": null,
      "metadata": {
        "collapsed": false
      },
      "outputs": [],
      "source": [
        "plt.figure()\nplt.hist(eigenvalues, bins=100, color=\"black\")\nplt.ylabel('Number')\nplt.xlabel('Eigenvalue')\nplt.show()"
      ]
    },
    {
      "cell_type": "markdown",
      "metadata": {},
      "source": [
        "### Independent component analysis (ICA)\n\n"
      ]
    },
    {
      "cell_type": "code",
      "execution_count": null,
      "metadata": {
        "collapsed": false
      },
      "outputs": [],
      "source": [
        "Vica, W = compute_ica(eigenvectors, kmax=6, learnrate=0.1, iterations=100000)"
      ]
    }
  ],
  "metadata": {
    "kernelspec": {
      "display_name": "Python 3",
      "language": "python",
      "name": "python3"
    },
    "language_info": {
      "codemirror_mode": {
        "name": "ipython",
        "version": 3
      },
      "file_extension": ".py",
      "mimetype": "text/x-python",
      "name": "python",
      "nbconvert_exporter": "python",
      "pygments_lexer": "ipython3",
      "version": "3.11.10"
    }
  },
  "nbformat": 4,
  "nbformat_minor": 0
}