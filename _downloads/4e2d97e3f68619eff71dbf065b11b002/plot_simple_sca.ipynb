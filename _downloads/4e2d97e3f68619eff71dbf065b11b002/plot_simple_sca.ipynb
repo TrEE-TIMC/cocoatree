{
  "cells": [
    {
      "cell_type": "markdown",
      "metadata": {},
      "source": [
        "\n# The simplest SCA analysis ever\n\nThis example shows the full process to perform a complete SCA analysis and\ndetect protein sectors from data importation, MSA filtering.\n"
      ]
    },
    {
      "cell_type": "code",
      "execution_count": null,
      "metadata": {
        "collapsed": false
      },
      "outputs": [],
      "source": [
        "import cocoatree.datasets as c_data\nimport cocoatree\nimport matplotlib.pyplot as plt"
      ]
    },
    {
      "cell_type": "markdown",
      "metadata": {},
      "source": [
        "## Load the dataset\n\nWe start by importing the dataset. In this case, we can directly load the S1\nserine protease dataset provided in :mod:`cocoatree`. To work on your on\ndataset, you can use the `cocoatree.io.load_msa` function.\n\n"
      ]
    },
    {
      "cell_type": "code",
      "execution_count": null,
      "metadata": {
        "collapsed": false
      },
      "outputs": [],
      "source": [
        "serine_dataset = c_data.load_S1A_serine_proteases()\nloaded_seqs = serine_dataset[\"alignment\"]\nloaded_seqs_id = serine_dataset[\"sequence_ids\"]\nn_loaded_pos, n_loaded_seqs = len(loaded_seqs[0]), len(loaded_seqs)"
      ]
    },
    {
      "cell_type": "markdown",
      "metadata": {},
      "source": [
        "## Compute the SCA analysis\n\n\n"
      ]
    },
    {
      "cell_type": "code",
      "execution_count": null,
      "metadata": {
        "collapsed": false
      },
      "outputs": [],
      "source": [
        "coevol_matrix, results = cocoatree.perform_sca(\n    loaded_seqs_id, loaded_seqs, n_components=3)\nprint(results.head())"
      ]
    },
    {
      "cell_type": "markdown",
      "metadata": {},
      "source": [
        "Select the position of the first sector in the results dataframe.\n\n"
      ]
    },
    {
      "cell_type": "code",
      "execution_count": null,
      "metadata": {
        "collapsed": false
      },
      "outputs": [],
      "source": [
        "print(results.loc[results[\"sector_1\"]].head())"
      ]
    },
    {
      "cell_type": "markdown",
      "metadata": {},
      "source": [
        "## Visualizing the sectors on the first and second PC\n\n"
      ]
    },
    {
      "cell_type": "code",
      "execution_count": null,
      "metadata": {
        "collapsed": false
      },
      "outputs": [],
      "source": [
        "# Plotting all elements in components\nfig, ax = plt.subplots()\nax.plot(results.loc[:, \"PC1\"],\n        results.loc[:, \"PC2\"],\n        \".\", c=\"black\")\n\n# Plotting elements in sectors\nfor isec, color in zip([1, 2, 3], ['r', 'g', 'b']):\n    ax.plot(results.loc[results[\"sector_%d\" % isec], \"PC1\"],\n            results.loc[results[\"sector_%d\" % isec], \"PC2\"],\n            \".\", c=color, label=\"Sector %d\" % isec)\n\nax.set_xlabel(\"PC1\")\nax.set_ylabel(\"PC2\")\n\nax.legend()"
      ]
    },
    {
      "cell_type": "markdown",
      "metadata": {},
      "source": [
        "## Visualizing the sectors on the first and second IC\n\n"
      ]
    },
    {
      "cell_type": "code",
      "execution_count": null,
      "metadata": {
        "collapsed": false
      },
      "outputs": [],
      "source": [
        "# Plotting all elements in components\nfig, ax = plt.subplots()\nax.plot(results.loc[:, \"IC1\"],\n        results.loc[:, \"IC2\"],\n        \".\", c=\"black\")\n\n# Plotting elements in sectors\nfor isec, color in zip([1, 2, 3], ['r', 'g', 'b']):\n    ax.plot(results.loc[results[\"sector_%d\" % isec], \"IC1\"],\n            results.loc[results[\"sector_%d\" % isec], \"IC2\"],\n            \".\", c=color, label=\"Sector %d\" % isec)\n\nax.set_xlabel(\"IC1\")\nax.set_ylabel(\"IC2\")\n\nax.legend()"
      ]
    }
  ],
  "metadata": {
    "kernelspec": {
      "display_name": "Python 3",
      "language": "python",
      "name": "python3"
    },
    "language_info": {
      "codemirror_mode": {
        "name": "ipython",
        "version": 3
      },
      "file_extension": ".py",
      "mimetype": "text/x-python",
      "name": "python",
      "nbconvert_exporter": "python",
      "pygments_lexer": "ipython3",
      "version": "3.11.12"
    }
  },
  "nbformat": 4,
  "nbformat_minor": 0
}