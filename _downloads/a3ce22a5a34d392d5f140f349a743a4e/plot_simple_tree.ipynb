{
  "cells": [
    {
      "cell_type": "markdown",
      "metadata": {},
      "source": [
        "\n# Simple tree visualization with metadata\n\nThis example details how to plot a simple tree visualization with cocoatree.\n"
      ]
    },
    {
      "cell_type": "code",
      "execution_count": null,
      "metadata": {
        "collapsed": false
      },
      "outputs": [],
      "source": [
        "from cocoatree.io import load_tree_ete3\nfrom cocoatree.datasets import load_S1A_serine_proteases\nfrom cocoatree.visualization import update_tree_ete3_and_return_style"
      ]
    },
    {
      "cell_type": "markdown",
      "metadata": {},
      "source": [
        "## Load metadata\nWe use the S1A serine protease dataset that is included in cocoatree\nbut you can use your own metadata by importing a csv file as a pandas\ndataframe.\n\nFor more details on the S1A serine proteases dataset, go to\n`sphx_glr_auto_examples_d_datasets_plot_s1A_serine_proteases.py`.\n\n"
      ]
    },
    {
      "cell_type": "code",
      "execution_count": null,
      "metadata": {
        "collapsed": false
      },
      "outputs": [],
      "source": [
        "serine_dataset = load_S1A_serine_proteases('halabi')\ndf_annot = serine_dataset[\"metadata\"]\nprint(df_annot)"
      ]
    },
    {
      "cell_type": "markdown",
      "metadata": {},
      "source": [
        "<div class=\"alert alert-info\"><h4>Note</h4><p>The dataframe must have a ``Seq_ID`` column with identifiers that are\n      identical to the ones in the MSA (although no MSA is needed in the\n      present example), and in the newick tree.::</p></div>\n\n"
      ]
    },
    {
      "cell_type": "markdown",
      "metadata": {},
      "source": [
        "## Load tree file\nUse :func:`cocoatree.io.load_tree_ete3` dedicated function\n\n"
      ]
    },
    {
      "cell_type": "code",
      "execution_count": null,
      "metadata": {
        "collapsed": false
      },
      "outputs": [],
      "source": [
        "tree_file = 'data/halabi_82_seqs.txt'\ntree_ete3 = load_tree_ete3(tree_file)\nprint(tree_ete3)"
      ]
    },
    {
      "cell_type": "markdown",
      "metadata": {},
      "source": [
        ".. seealso::\n      Check `sphx_glr_auto_examples_a_quick_start_plot_load_tree.py`\n      for details on the Newick format that is accepted.\n\n"
      ]
    },
    {
      "cell_type": "markdown",
      "metadata": {},
      "source": [
        "## Plot figure\nCreate the tree style that will be applied to your tree with\n:func:`cocoatree.visualization.update_tree_ete3_and_return_style`\n\n"
      ]
    },
    {
      "cell_type": "code",
      "execution_count": null,
      "metadata": {
        "collapsed": false
      },
      "outputs": [],
      "source": [
        "tree_style, column_layout = update_tree_ete3_and_return_style(\n    tree_ete3, df_annot,\n    meta_data=('Protein_type', 'Subphylum', 'Class'),\n    fig_title='A tree visualization with metadata',\n    )"
      ]
    },
    {
      "cell_type": "markdown",
      "metadata": {},
      "source": [
        "Save the figure:\n\n"
      ]
    },
    {
      "cell_type": "code",
      "execution_count": null,
      "metadata": {
        "collapsed": false
      },
      "outputs": [],
      "source": [
        "tree_ete3.render(\"simple_tree.png\", tree_style=tree_style)"
      ]
    },
    {
      "cell_type": "markdown",
      "metadata": {},
      "source": [
        "You can also use ete3's ``tree.show()`` method for displaying the figure\nin ete3's interactive GUI.\n\n"
      ]
    },
    {
      "cell_type": "markdown",
      "metadata": {},
      "source": [
        "<div class=\"alert alert-danger\"><h4>Warning</h4><p>If you wish to modify the style that has been applied to the\n      ``tree_ete3`` object, you need to reload the tree in order to clear\n      out the previous tree style. Otherwise, there will be a\n      superimposition of tree styles.</p></div>\n\n"
      ]
    }
  ],
  "metadata": {
    "kernelspec": {
      "display_name": "Python 3",
      "language": "python",
      "name": "python3"
    },
    "language_info": {
      "codemirror_mode": {
        "name": "ipython",
        "version": 3
      },
      "file_extension": ".py",
      "mimetype": "text/x-python",
      "name": "python",
      "nbconvert_exporter": "python",
      "pygments_lexer": "ipython3",
      "version": "3.11.13"
    }
  },
  "nbformat": 4,
  "nbformat_minor": 0
}