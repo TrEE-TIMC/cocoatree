{
  "cells": [
    {
      "cell_type": "markdown",
      "metadata": {},
      "source": [
        "\n# Plot sector together with (phylogenetic) tree and metadata\n\nA small example that shows how to plot the sector composition\nwithin a tree and to add metadata.\n"
      ]
    },
    {
      "cell_type": "markdown",
      "metadata": {},
      "source": [
        "Import necessary packages\n\n"
      ]
    },
    {
      "cell_type": "code",
      "execution_count": null,
      "metadata": {
        "collapsed": false
      },
      "outputs": [],
      "source": [
        "from cocoatree.io import load_MSA, load_tree_ete3\nfrom cocoatree.datasets import load_S1A_serine_proteases\nfrom cocoatree.visualization import update_tree_ete3_and_return_style"
      ]
    },
    {
      "cell_type": "markdown",
      "metadata": {},
      "source": [
        "## Import datasets\n\n"
      ]
    },
    {
      "cell_type": "code",
      "execution_count": null,
      "metadata": {
        "collapsed": false
      },
      "outputs": [],
      "source": [
        "serine_dataset = load_S1A_serine_proteases('halabi')\ndf_annot = serine_dataset[\"metadata\"]\nprint(df_annot)"
      ]
    },
    {
      "cell_type": "markdown",
      "metadata": {},
      "source": [
        "To use your own metadata file, import a csv file as a pandas dataframe.\n\nThe dataframe must have a 'Seq_ID' column, which corresponds to the sequence\nidentifiers used in the fasta and in the phylogenetic tree. The other columns\ncan contain qualitative data that will be displayed as categories alongside\nthe phylogenetic tree. In this example, we will use the last 3 columns\n'Protein_type', 'Class', and 'Family'.\n\n"
      ]
    },
    {
      "cell_type": "markdown",
      "metadata": {},
      "source": [
        "## Import tree file\nThe file must be in Newick format and can include bootstrap values (only\none).\n\n"
      ]
    },
    {
      "cell_type": "code",
      "execution_count": null,
      "metadata": {
        "collapsed": false
      },
      "outputs": [],
      "source": [
        "tree_file = 'data/halabi_82_seqs.txt'\ntree_ete3 = load_tree_ete3(tree_file)\nprint(tree_ete3)"
      ]
    },
    {
      "cell_type": "markdown",
      "metadata": {},
      "source": [
        "## Import sector sequences\nLoad the sequences you wish to visualize with `cocoatree.io.load_msa()` as\na fasta file. The sequence names must correspond to `Seq_ID` and to the leaf\nnames in the tree file.\n\n"
      ]
    },
    {
      "cell_type": "code",
      "execution_count": null,
      "metadata": {
        "collapsed": false
      },
      "outputs": [],
      "source": [
        "sector_file = 'data/halabi_sector_1_SCA.fasta'\ndata = load_MSA(sector_file, 'fasta')\nsector_id = data[\"sequence_ids\"]\nsector_seq = data[\"alignment\"]"
      ]
    },
    {
      "cell_type": "markdown",
      "metadata": {},
      "source": [
        "## Plot figure\nGenerate the tree style that will be applied to your tree.\n\nHere, we will show various elements:\n  - the tree with its leaf names (corresponding to `Seq_ID`)\n  - metadata as colored columns, in order: *Protein_type*, *Subphylum*,\nand *Class*. The default colormap (`jet`), will be used. See\n**Specifying metadata colors** example on how to modify it.\n  - sector sequences colored by amino acid physico-chemical properties\n(`t_sector_seq=True`)\n  - a heatmap of pairwise sequence identity computed on the sector \\\nsequences (`t_sector_heatmap=True`) using the `GnBu` colormap\n\n"
      ]
    },
    {
      "cell_type": "code",
      "execution_count": null,
      "metadata": {
        "collapsed": false
      },
      "outputs": [],
      "source": [
        "tree_style, _ = update_tree_ete3_and_return_style(\n    tree_ete3, df_annot, sector_id, sector_seq,\n    meta_data=('Protein_type', 'Subphylum', 'Class'),\n    fig_title='Visualization example',\n    t_sector_seq=True,\n    t_sector_heatmap=True,\n    colormap='GnBu'\n    )"
      ]
    },
    {
      "cell_type": "markdown",
      "metadata": {},
      "source": [
        "Save the image file\n\n"
      ]
    },
    {
      "cell_type": "code",
      "execution_count": null,
      "metadata": {
        "collapsed": false
      },
      "outputs": [],
      "source": [
        "tree_ete3.render(\"sector_phylogeny.png\", tree_style=tree_style)"
      ]
    },
    {
      "cell_type": "markdown",
      "metadata": {},
      "source": [
        "You can use ete3's `tree.show()` method for displaying the figure in\nete3's interactive GUI.\n\n"
      ]
    }
  ],
  "metadata": {
    "kernelspec": {
      "display_name": "Python 3",
      "language": "python",
      "name": "python3"
    },
    "language_info": {
      "codemirror_mode": {
        "name": "ipython",
        "version": 3
      },
      "file_extension": ".py",
      "mimetype": "text/x-python",
      "name": "python",
      "nbconvert_exporter": "python",
      "pygments_lexer": "ipython3",
      "version": "3.11.13"
    }
  },
  "nbformat": 4,
  "nbformat_minor": 0
}