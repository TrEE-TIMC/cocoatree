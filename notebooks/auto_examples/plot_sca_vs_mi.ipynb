{
  "cells": [
    {
      "cell_type": "markdown",
      "metadata": {},
      "source": [
        "\n# Mutual information versus SCA\n\nIn this example, we are comparing the results of the co-evolution analysis on\nserine proteases using SCA and the mutual information.\n"
      ]
    },
    {
      "cell_type": "code",
      "execution_count": null,
      "metadata": {
        "collapsed": false
      },
      "outputs": [],
      "source": [
        "from cocoatree.datasets import load_S1A_serine_proteases\nfrom cocoatree.msa import filter_sequences\n\nfrom cocoatree.statistics import compute_frequencies\nfrom cocoatree.statistics.pairwise import compute_sca_matrix\nfrom cocoatree.statistics.pairwise import compute_mutual_information_matrix\n\nimport matplotlib.pyplot as plt"
      ]
    },
    {
      "cell_type": "markdown",
      "metadata": {},
      "source": [
        "## Load the dataset\n\nWe start by importing the dataset.\n\n"
      ]
    },
    {
      "cell_type": "code",
      "execution_count": null,
      "metadata": {
        "collapsed": false
      },
      "outputs": [],
      "source": [
        "serine_dataset = load_S1A_serine_proteases()\nseq_id = serine_dataset[\"sequence_ids\"]\nsequences = serine_dataset[\"alignment\"]\nn_pos, n_seq = len(sequences[0]), len(sequences)"
      ]
    },
    {
      "cell_type": "markdown",
      "metadata": {},
      "source": [
        "## Filtering of the multiple sequence alignment\n\nWe are going to filter and clean the MSA\n\n"
      ]
    },
    {
      "cell_type": "code",
      "execution_count": null,
      "metadata": {
        "collapsed": false
      },
      "outputs": [],
      "source": [
        "seq_id_kept, seq_kept, pos_kept = filter_sequences(seq_id, sequences)"
      ]
    },
    {
      "cell_type": "markdown",
      "metadata": {},
      "source": [
        "## Compute the SCA matrix\n\n"
      ]
    },
    {
      "cell_type": "code",
      "execution_count": null,
      "metadata": {
        "collapsed": false
      },
      "outputs": [],
      "source": [
        "aa_freq, background_frequencies, joint_frequencies = compute_frequencies(\n    seq_kept, seq_weights=None)\nCijab_raw, sca = compute_sca_matrix(joint_freqs=joint_frequencies,\n                                    aa_freq=aa_freq,\n                                    background_freq=background_frequencies)"
      ]
    },
    {
      "cell_type": "markdown",
      "metadata": {},
      "source": [
        "## Compute the Mutual information matrix\n\n"
      ]
    },
    {
      "cell_type": "code",
      "execution_count": null,
      "metadata": {
        "collapsed": false
      },
      "outputs": [],
      "source": [
        "normalized_mi = compute_mutual_information_matrix(seq_kept)\nmi = compute_mutual_information_matrix(seq_kept, normalize=False)"
      ]
    },
    {
      "cell_type": "markdown",
      "metadata": {},
      "source": [
        "Compare MI versus SCA\n\n"
      ]
    },
    {
      "cell_type": "code",
      "execution_count": null,
      "metadata": {
        "collapsed": false
      },
      "outputs": [],
      "source": [
        "fig, axes = plt.subplots(ncols=3, figsize=(8, 4), tight_layout=True)\nax = axes[0]\nax.matshow(sca)\nax.set_title(\"SCA matrix\")\n\nax = axes[1]\nax.matshow(normalized_mi)\nax.set_title(\"Normalized Mutual Information\")\n\nax = axes[2]\nax.matshow(mi)\nax.set_title(\"Mutual Information\")"
      ]
    }
  ],
  "metadata": {
    "kernelspec": {
      "display_name": "Python 3",
      "language": "python",
      "name": "python3"
    },
    "language_info": {
      "codemirror_mode": {
        "name": "ipython",
        "version": 3
      },
      "file_extension": ".py",
      "mimetype": "text/x-python",
      "name": "python",
      "nbconvert_exporter": "python",
      "pygments_lexer": "ipython3",
      "version": "3.11.11"
    }
  },
  "nbformat": 4,
  "nbformat_minor": 0
}