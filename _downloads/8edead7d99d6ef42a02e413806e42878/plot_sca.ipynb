{
  "cells": [
    {
      "cell_type": "code",
      "execution_count": null,
      "metadata": {
        "collapsed": false
      },
      "outputs": [],
      "source": [
        "%matplotlib inline"
      ]
    },
    {
      "cell_type": "markdown",
      "metadata": {},
      "source": [
        "\n# Running SCA on the S1A serine protease family\n\nThis example showcases how to run the whole SCA pipeline on the S1A protein\nfamily. This reproduces the results of Halabi et al, 2009.\n"
      ]
    },
    {
      "cell_type": "code",
      "execution_count": null,
      "metadata": {
        "collapsed": false
      },
      "outputs": [],
      "source": [
        "import itertools\nimport numpy as np\nimport matplotlib.pyplot as plt\n\nfrom sklearn.preprocessing import quantile_transform\nfrom akasthesia.coevolution import Alignment, CoevolutionMatrix"
      ]
    },
    {
      "cell_type": "markdown",
      "metadata": {},
      "source": [
        "## Loading the S1A serine data\n\nThis example is based on the serine protein family, studied by Halabi et al,\nand then further by Rivoire at al.\n\n"
      ]
    },
    {
      "cell_type": "code",
      "execution_count": null,
      "metadata": {
        "collapsed": false
      },
      "outputs": [],
      "source": [
        "alg = Alignment.from_file(\"data/s1Ahalabi_1470.an\")\n\nn_sequences = alg.seq_count()\nn_residues = alg.seq_len()\nprint(\"Loaded %d sequence of with %d residues\" % (n_sequences, n_residues))"
      ]
    },
    {
      "cell_type": "markdown",
      "metadata": {},
      "source": [
        "## Calculate Weights - Sequence Weight and Position Weights\n\nThe first step of the pipeline consists in evaluating two sets of weights.\nFirst, what we denote by sequence weight or organism weight: these weights\nconsists in correcting for the \"phylogeny effect,\" ie the effect of an\nuneven sampling of sequences due to the overreprentation of some organisms\nin datasets (such as E. coli). The second set of weights corresponds to what\nwe denote by the \"residue weights\" or \"position weights.\" These weights aim\nat correcting for the fact that some residues are much more conserved than\nothers.\n\n"
      ]
    },
    {
      "cell_type": "code",
      "execution_count": null,
      "metadata": {
        "collapsed": false
      },
      "outputs": [],
      "source": [
        "seq_weights = alg.sca_seq_weights()\npos_weights = alg.position_weights_sca(seq_weights)"
      ]
    },
    {
      "cell_type": "markdown",
      "metadata": {},
      "source": [
        "## Estimating the coevolution matrix\n\nThen, we estimate the co-evolution matrix from the alignment, corrected with\nthese sequence and residue weights. The goal here is to estimate robustly\nwhether pairs of residues co-evolve.\n\n"
      ]
    },
    {
      "cell_type": "code",
      "execution_count": null,
      "metadata": {
        "collapsed": false
      },
      "outputs": [],
      "source": [
        "weighted_cij = alg.sca_coevolution(seq_weights=seq_weights,\n                                   pos_weights=pos_weights)\n\nfigure, ax = plt.subplots()\nim = ax.matshow(weighted_cij.matrix)\nax.set_yticks(range(0, np.shape(weighted_cij.matrix)[0], 40))\nax.set_xticks(range(0, np.shape(weighted_cij.matrix)[0], 40))\ncbar = ax.figure.colorbar(im, ax=ax)"
      ]
    },
    {
      "cell_type": "markdown",
      "metadata": {},
      "source": [
        "## Statistical analysis using Independant Component Analysis (ICA)\n\nThe last step of the analysis consists in performing somewhat of an ICA on\nthe coevolution matrix estimated in the previous steps.\n\n"
      ]
    },
    {
      "cell_type": "code",
      "execution_count": null,
      "metadata": {
        "collapsed": false
      },
      "outputs": [],
      "source": [
        "n_components = 6\nvica, w = CoevolutionMatrix.ICA(weighted_cij.matrix, kmax=n_components)\n\n# Set some colors based on the projects on the second component\ncolors = quantile_transform(\n    vica[:, 1].reshape(-1, 1), n_quantiles=n_residues).flatten()\nfig, axes = plt.subplots(n_components-1, n_components-1, tight_layout=True)\nfor i, j in itertools.product(range(n_components), range(n_components)):\n    if i >= j:\n        if j >= 1 and (i < n_components-1):\n            fig.delaxes(axes[i, j-1])\n        continue\n    ax = axes[i, j-1]\n    ax.scatter(vica[:, j], vica[:, i], marker=\".\", c=colors)\n    ax.spines['left'].set_position(('data', 0))\n    ax.spines['bottom'].set_position(('data', 0))\n    ax.spines[\"top\"].set_linewidth(0)\n    ax.spines[\"right\"].set_linewidth(0)\n\n    xmin, xmax = ax.get_xlim()\n    ymin, ymax = ax.get_ylim()\n    ax.tick_params(axis='both', which='major', labelsize=\"xx-small\")\n    ax.tick_params(axis='both', which='minor', labelsize=\"xx-small\")\n\n    ax.text(\n        xmin - (xmax - xmin) * 0.05, 0, \"IC%d\" % (i+1),\n        fontweight=\"bold\", rotation=90, horizontalalignment=\"right\",\n        fontsize=\"x-small\", verticalalignment=\"center\")\n    ax.text(\n        0, ymin - (ymax - ymin) * 0.05,\n        \"IC%d\" % (j+1), fontsize=\"x-small\", fontweight=\"bold\",\n        horizontalalignment=\"center\", verticalalignment=\"top\")"
      ]
    },
    {
      "cell_type": "markdown",
      "metadata": {},
      "source": [
        "We can see from the results of the ICA that some components clearly captures\nclusters of residues. These likely correspond to sectors.\n\n"
      ]
    }
  ],
  "metadata": {
    "kernelspec": {
      "display_name": "Python 3",
      "language": "python",
      "name": "python3"
    },
    "language_info": {
      "codemirror_mode": {
        "name": "ipython",
        "version": 3
      },
      "file_extension": ".py",
      "mimetype": "text/x-python",
      "name": "python",
      "nbconvert_exporter": "python",
      "pygments_lexer": "ipython3",
      "version": "3.8.10"
    }
  },
  "nbformat": 4,
  "nbformat_minor": 0
}